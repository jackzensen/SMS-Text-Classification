{
  "cells": [
    {
      "cell_type": "markdown",
      "metadata": {
        "id": "view-in-github",
        "colab_type": "text"
      },
      "source": [
        "<a href=\"https://colab.research.google.com/github/jackzensen/SMS-Text-Classification/blob/main/Copy_of_SMS_text_classification.ipynb\" target=\"_parent\"><img src=\"https://colab.research.google.com/assets/colab-badge.svg\" alt=\"Open In Colab\"/></a>"
      ]
    },
    {
      "cell_type": "markdown",
      "metadata": {
        "id": "Eg62Pmz3o83v"
      },
      "source": [
        "*Note: You are currently reading this using Google Colaboratory which is a cloud-hosted version of Jupyter Notebook. This is a document containing both text cells for documentation and runnable code cells. If you are unfamiliar with Jupyter Notebook, watch this 3-minute introduction before starting this challenge: https://www.youtube.com/watch?v=inN8seMm7UI*\n",
        "\n",
        "---\n",
        "\n",
        "In this challenge, you need to create a machine learning model that will classify SMS messages as either \"ham\" or \"spam\". A \"ham\" message is a normal message sent by a friend. A \"spam\" message is an advertisement or a message sent by a company.\n",
        "\n",
        "You should create a function called `predict_message` that takes a message string as an argument and returns a list. The first element in the list should be a number between zero and one that indicates the likeliness of \"ham\" (0) or \"spam\" (1). The second element in the list should be the word \"ham\" or \"spam\", depending on which is most likely.\n",
        "\n",
        "For this challenge, you will use the [SMS Spam Collection dataset](http://www.dt.fee.unicamp.br/~tiago/smsspamcollection/). The dataset has already been grouped into train data and test data.\n",
        "\n",
        "The first two cells import the libraries and data. The final cell tests your model and function. Add your code in between these cells.\n"
      ]
    },
    {
      "cell_type": "code",
      "execution_count": null,
      "metadata": {
        "id": "8RZOuS9LWQvv",
        "colab": {
          "base_uri": "https://localhost:8080/"
        },
        "outputId": "92179352-1f05-41af-fea5-46f1b6b271ef"
      },
      "outputs": [
        {
          "output_type": "stream",
          "name": "stdout",
          "text": [
            "\u001b[K     |████████████████████████████████| 4.9 MB 8.0 MB/s \n",
            "\u001b[?25h2.7.0\n"
          ]
        }
      ],
      "source": [
        "# import libraries\n",
        "# try:\n",
        "#   # %tensorflow_version only exists in Colab.\n",
        "#   !pip install tf-nightly\n",
        "# except Exception:\n",
        "#   pass\n",
        "# !pip install tensorflow\n",
        "# !pip install numpy --upgrade --ignore-installed\n",
        "!pip install -q tensorflow-text\n",
        "\n",
        "import requests\n",
        "import tensorflow_text as tf_text\n",
        "import tensorflow as tf\n",
        "import pandas as pd\n",
        "from tensorflow import keras\n",
        "# !pip install tensorflow-datasets\n",
        "import tensorflow_datasets as tfds\n",
        "import numpy as np\n",
        "import matplotlib.pyplot as plt\n",
        "from tensorflow.keras.preprocessing.text import Tokenizer\n",
        "from tensorflow.keras.preprocessing.sequence import pad_sequences\n",
        "print(tf.__version__)"
      ]
    },
    {
      "cell_type": "code",
      "execution_count": null,
      "metadata": {
        "id": "lMHwYXHXCar3",
        "colab": {
          "base_uri": "https://localhost:8080/"
        },
        "outputId": "238d9978-5697-40ab-f853-44d2f943a85f"
      },
      "outputs": [
        {
          "output_type": "stream",
          "name": "stdout",
          "text": [
            "--2022-01-20 03:13:01--  https://cdn.freecodecamp.org/project-data/sms/train-data.tsv\n",
            "Resolving cdn.freecodecamp.org (cdn.freecodecamp.org)... 104.26.2.33, 172.67.70.149, 104.26.3.33, ...\n",
            "Connecting to cdn.freecodecamp.org (cdn.freecodecamp.org)|104.26.2.33|:443... connected.\n",
            "HTTP request sent, awaiting response... 200 OK\n",
            "Length: 358233 (350K) [text/tab-separated-values]\n",
            "Saving to: ‘train-data.tsv’\n",
            "\n",
            "train-data.tsv      100%[===================>] 349.84K  --.-KB/s    in 0.02s   \n",
            "\n",
            "2022-01-20 03:13:02 (15.0 MB/s) - ‘train-data.tsv’ saved [358233/358233]\n",
            "\n",
            "--2022-01-20 03:13:02--  https://cdn.freecodecamp.org/project-data/sms/valid-data.tsv\n",
            "Resolving cdn.freecodecamp.org (cdn.freecodecamp.org)... 104.26.2.33, 172.67.70.149, 104.26.3.33, ...\n",
            "Connecting to cdn.freecodecamp.org (cdn.freecodecamp.org)|104.26.2.33|:443... connected.\n",
            "HTTP request sent, awaiting response... 200 OK\n",
            "Length: 118774 (116K) [text/tab-separated-values]\n",
            "Saving to: ‘valid-data.tsv’\n",
            "\n",
            "valid-data.tsv      100%[===================>] 115.99K  --.-KB/s    in 0.007s  \n",
            "\n",
            "2022-01-20 03:13:02 (15.7 MB/s) - ‘valid-data.tsv’ saved [118774/118774]\n",
            "\n"
          ]
        }
      ],
      "source": [
        "# get data files\n",
        "!wget https://cdn.freecodecamp.org/project-data/sms/train-data.tsv\n",
        "!wget https://cdn.freecodecamp.org/project-data/sms/valid-data.tsv\n",
        "\n",
        "train_file_path = \"train-data.tsv\"\n",
        "test_file_path = \"valid-data.tsv\"\n",
        "\n",
        "train_file_path = \"https://cdn.freecodecamp.org/project-data/sms/train-data.tsv\"\n",
        "test_file_path = \"https://cdn.freecodecamp.org/project-data/sms/valid-data.tsv\""
      ]
    },
    {
      "cell_type": "code",
      "execution_count": null,
      "metadata": {
        "id": "g_h508FEClxO"
      },
      "outputs": [],
      "source": [
        "# train_files = pd.read_csv('https://cdn.freecodecamp.org/project-data/sms/train-data.tsv', header=0, names=['label', 'message'], sep='\\t')\n",
        "train_files = pd.read_csv('train-data.tsv', sep='\\t', header=None, names=['Classification', 'Message'])\n",
        "valid_files = pd.read_csv('valid-data.tsv', sep='\\t', header=None, names=['Classification', 'Message'])"
      ]
    },
    {
      "cell_type": "code",
      "source": [
        "# Configure parameters\n",
        "batch_size = 32\n",
        "epochs = 15\n",
        "BUFFER_SIZE = 10000\n"
      ],
      "metadata": {
        "id": "5azoCJDRpDKE"
      },
      "execution_count": null,
      "outputs": []
    },
    {
      "cell_type": "code",
      "source": [
        "!mkdir trainData\n",
        "!mv train-data.tsv trainData\n",
        "!mkdir valData\n",
        "!mv valid-data.tsv valData"
      ],
      "metadata": {
        "id": "B-1Xf9Xxw4V-"
      },
      "execution_count": null,
      "outputs": []
    },
    {
      "cell_type": "code",
      "source": [
        "# this shows there are duplicates that probably need to be removed from the datasets\n",
        "train_files.describe()\n",
        "duplicatedRow = train_files[train_files.duplicated()]\n",
        "print(duplicatedRow[:10])"
      ],
      "metadata": {
        "id": "av302MuOIWez",
        "colab": {
          "base_uri": "https://localhost:8080/"
        },
        "outputId": "40e60874-00f5-4121-a8c8-e11d4c16b839"
      },
      "execution_count": null,
      "outputs": [
        {
          "output_type": "stream",
          "name": "stdout",
          "text": [
            "    Classification                                            Message\n",
            "298           spam  want to funk up ur fone with a weekly new tone...\n",
            "385            ham  ok then i will come to ur home after half an hour\n",
            "489            ham  watching cartoon, listening music &amp; at eve...\n",
            "494            ham                             sorry, i'll call later\n",
            "525            ham                             sorry, i'll call later\n",
            "530            ham  i am in escape theatre now. . going to watch k...\n",
            "555            ham                             sorry, i'll call later\n",
            "593            ham                                              ok...\n",
            "621            ham                                                ok.\n",
            "631            ham                             sorry, i'll call later\n"
          ]
        }
      ]
    },
    {
      "cell_type": "code",
      "source": [
        "# Remove duplicate entries\n",
        "train_files = train_files.drop_duplicates()\n",
        "valid_files = valid_files.drop_duplicates()\n",
        "train_files.describe()"
      ],
      "metadata": {
        "id": "9OybGHaMJ6FK",
        "colab": {
          "base_uri": "https://localhost:8080/",
          "height": 174
        },
        "outputId": "80ba92e4-cfd7-4ad1-ef4f-5924385ddadb"
      },
      "execution_count": null,
      "outputs": [
        {
          "output_type": "execute_result",
          "data": {
            "text/html": [
              "\n",
              "  <div id=\"df-e02635f0-58c3-4973-ba33-7c7915e4f07e\">\n",
              "    <div class=\"colab-df-container\">\n",
              "      <div>\n",
              "<style scoped>\n",
              "    .dataframe tbody tr th:only-of-type {\n",
              "        vertical-align: middle;\n",
              "    }\n",
              "\n",
              "    .dataframe tbody tr th {\n",
              "        vertical-align: top;\n",
              "    }\n",
              "\n",
              "    .dataframe thead th {\n",
              "        text-align: right;\n",
              "    }\n",
              "</style>\n",
              "<table border=\"1\" class=\"dataframe\">\n",
              "  <thead>\n",
              "    <tr style=\"text-align: right;\">\n",
              "      <th></th>\n",
              "      <th>Classification</th>\n",
              "      <th>Message</th>\n",
              "    </tr>\n",
              "  </thead>\n",
              "  <tbody>\n",
              "    <tr>\n",
              "      <th>count</th>\n",
              "      <td>3935</td>\n",
              "      <td>3935</td>\n",
              "    </tr>\n",
              "    <tr>\n",
              "      <th>unique</th>\n",
              "      <td>2</td>\n",
              "      <td>3935</td>\n",
              "    </tr>\n",
              "    <tr>\n",
              "      <th>top</th>\n",
              "      <td>ham</td>\n",
              "      <td>8 at the latest, g's still there if you can sc...</td>\n",
              "    </tr>\n",
              "    <tr>\n",
              "      <th>freq</th>\n",
              "      <td>3430</td>\n",
              "      <td>1</td>\n",
              "    </tr>\n",
              "  </tbody>\n",
              "</table>\n",
              "</div>\n",
              "      <button class=\"colab-df-convert\" onclick=\"convertToInteractive('df-e02635f0-58c3-4973-ba33-7c7915e4f07e')\"\n",
              "              title=\"Convert this dataframe to an interactive table.\"\n",
              "              style=\"display:none;\">\n",
              "        \n",
              "  <svg xmlns=\"http://www.w3.org/2000/svg\" height=\"24px\"viewBox=\"0 0 24 24\"\n",
              "       width=\"24px\">\n",
              "    <path d=\"M0 0h24v24H0V0z\" fill=\"none\"/>\n",
              "    <path d=\"M18.56 5.44l.94 2.06.94-2.06 2.06-.94-2.06-.94-.94-2.06-.94 2.06-2.06.94zm-11 1L8.5 8.5l.94-2.06 2.06-.94-2.06-.94L8.5 2.5l-.94 2.06-2.06.94zm10 10l.94 2.06.94-2.06 2.06-.94-2.06-.94-.94-2.06-.94 2.06-2.06.94z\"/><path d=\"M17.41 7.96l-1.37-1.37c-.4-.4-.92-.59-1.43-.59-.52 0-1.04.2-1.43.59L10.3 9.45l-7.72 7.72c-.78.78-.78 2.05 0 2.83L4 21.41c.39.39.9.59 1.41.59.51 0 1.02-.2 1.41-.59l7.78-7.78 2.81-2.81c.8-.78.8-2.07 0-2.86zM5.41 20L4 18.59l7.72-7.72 1.47 1.35L5.41 20z\"/>\n",
              "  </svg>\n",
              "      </button>\n",
              "      \n",
              "  <style>\n",
              "    .colab-df-container {\n",
              "      display:flex;\n",
              "      flex-wrap:wrap;\n",
              "      gap: 12px;\n",
              "    }\n",
              "\n",
              "    .colab-df-convert {\n",
              "      background-color: #E8F0FE;\n",
              "      border: none;\n",
              "      border-radius: 50%;\n",
              "      cursor: pointer;\n",
              "      display: none;\n",
              "      fill: #1967D2;\n",
              "      height: 32px;\n",
              "      padding: 0 0 0 0;\n",
              "      width: 32px;\n",
              "    }\n",
              "\n",
              "    .colab-df-convert:hover {\n",
              "      background-color: #E2EBFA;\n",
              "      box-shadow: 0px 1px 2px rgba(60, 64, 67, 0.3), 0px 1px 3px 1px rgba(60, 64, 67, 0.15);\n",
              "      fill: #174EA6;\n",
              "    }\n",
              "\n",
              "    [theme=dark] .colab-df-convert {\n",
              "      background-color: #3B4455;\n",
              "      fill: #D2E3FC;\n",
              "    }\n",
              "\n",
              "    [theme=dark] .colab-df-convert:hover {\n",
              "      background-color: #434B5C;\n",
              "      box-shadow: 0px 1px 3px 1px rgba(0, 0, 0, 0.15);\n",
              "      filter: drop-shadow(0px 1px 2px rgba(0, 0, 0, 0.3));\n",
              "      fill: #FFFFFF;\n",
              "    }\n",
              "  </style>\n",
              "\n",
              "      <script>\n",
              "        const buttonEl =\n",
              "          document.querySelector('#df-e02635f0-58c3-4973-ba33-7c7915e4f07e button.colab-df-convert');\n",
              "        buttonEl.style.display =\n",
              "          google.colab.kernel.accessAllowed ? 'block' : 'none';\n",
              "\n",
              "        async function convertToInteractive(key) {\n",
              "          const element = document.querySelector('#df-e02635f0-58c3-4973-ba33-7c7915e4f07e');\n",
              "          const dataTable =\n",
              "            await google.colab.kernel.invokeFunction('convertToInteractive',\n",
              "                                                     [key], {});\n",
              "          if (!dataTable) return;\n",
              "\n",
              "          const docLinkHtml = 'Like what you see? Visit the ' +\n",
              "            '<a target=\"_blank\" href=https://colab.research.google.com/notebooks/data_table.ipynb>data table notebook</a>'\n",
              "            + ' to learn more about interactive tables.';\n",
              "          element.innerHTML = '';\n",
              "          dataTable['output_type'] = 'display_data';\n",
              "          await google.colab.output.renderOutput(dataTable, element);\n",
              "          const docLink = document.createElement('div');\n",
              "          docLink.innerHTML = docLinkHtml;\n",
              "          element.appendChild(docLink);\n",
              "        }\n",
              "      </script>\n",
              "    </div>\n",
              "  </div>\n",
              "  "
            ],
            "text/plain": [
              "       Classification                                            Message\n",
              "count            3935                                               3935\n",
              "unique              2                                               3935\n",
              "top               ham  8 at the latest, g's still there if you can sc...\n",
              "freq             3430                                                  1"
            ]
          },
          "metadata": {},
          "execution_count": 7
        }
      ]
    },
    {
      "cell_type": "code",
      "source": [
        "train_files['Classification'].value_counts()\n",
        "valid_files['Classification'].value_counts()\n",
        "\n",
        "# ham messages are much more frequent than spam, so we should balance the data before training the model with it\n",
        "lenTrainSpam = len(train_files[train_files['Classification'] == 'spam'])\n",
        "\n",
        "# gather lenTrainSpam amount of random samples where message is considered ham\n",
        "trainHam = train_files[train_files['Classification'] == 'ham'].sample(n=lenTrainSpam)\n",
        "trainSpam = train_files[train_files['Classification'] == 'spam'].sample(n=lenTrainSpam)\n",
        "\n",
        "# Merge lenTrainSpam amount of ham and spam samples into one dataframe\n",
        "trainSet = trainHam.merge(trainSpam,how='outer', on=None)\n",
        "\n",
        "# Shuffle dataset\n",
        "trainSet = trainSet.sample(len(trainSet), random_state=1)\n",
        "trainSet"
      ],
      "metadata": {
        "id": "lWjPuWL8KKiX",
        "colab": {
          "base_uri": "https://localhost:8080/",
          "height": 423
        },
        "outputId": "b13fa240-1c7b-43d1-b418-f599e2036275"
      },
      "execution_count": null,
      "outputs": [
        {
          "output_type": "execute_result",
          "data": {
            "text/html": [
              "\n",
              "  <div id=\"df-d94816e2-34d7-4876-a094-f645e42dca41\">\n",
              "    <div class=\"colab-df-container\">\n",
              "      <div>\n",
              "<style scoped>\n",
              "    .dataframe tbody tr th:only-of-type {\n",
              "        vertical-align: middle;\n",
              "    }\n",
              "\n",
              "    .dataframe tbody tr th {\n",
              "        vertical-align: top;\n",
              "    }\n",
              "\n",
              "    .dataframe thead th {\n",
              "        text-align: right;\n",
              "    }\n",
              "</style>\n",
              "<table border=\"1\" class=\"dataframe\">\n",
              "  <thead>\n",
              "    <tr style=\"text-align: right;\">\n",
              "      <th></th>\n",
              "      <th>Classification</th>\n",
              "      <th>Message</th>\n",
              "    </tr>\n",
              "  </thead>\n",
              "  <tbody>\n",
              "    <tr>\n",
              "      <th>915</th>\n",
              "      <td>spam</td>\n",
              "      <td>someone u know has asked our dating service 2 ...</td>\n",
              "    </tr>\n",
              "    <tr>\n",
              "      <th>701</th>\n",
              "      <td>spam</td>\n",
              "      <td>urgent! your mobile number has been awarded wi...</td>\n",
              "    </tr>\n",
              "    <tr>\n",
              "      <th>293</th>\n",
              "      <td>ham</td>\n",
              "      <td>not for possession, especially not first offense</td>\n",
              "    </tr>\n",
              "    <tr>\n",
              "      <th>507</th>\n",
              "      <td>spam</td>\n",
              "      <td>i'd like to tell you my deepest darkest fantas...</td>\n",
              "    </tr>\n",
              "    <tr>\n",
              "      <th>970</th>\n",
              "      <td>spam</td>\n",
              "      <td>urgent! call 09066612661 from landline. your c...</td>\n",
              "    </tr>\n",
              "    <tr>\n",
              "      <th>...</th>\n",
              "      <td>...</td>\n",
              "      <td>...</td>\n",
              "    </tr>\n",
              "    <tr>\n",
              "      <th>767</th>\n",
              "      <td>spam</td>\n",
              "      <td>please call 08712402902 immediately as there i...</td>\n",
              "    </tr>\n",
              "    <tr>\n",
              "      <th>72</th>\n",
              "      <td>ham</td>\n",
              "      <td>i love to wine and dine my lady!</td>\n",
              "    </tr>\n",
              "    <tr>\n",
              "      <th>908</th>\n",
              "      <td>spam</td>\n",
              "      <td>pdate_now - double mins and 1000 txts on orang...</td>\n",
              "    </tr>\n",
              "    <tr>\n",
              "      <th>235</th>\n",
              "      <td>ham</td>\n",
              "      <td>ü takin linear algebra today?</td>\n",
              "    </tr>\n",
              "    <tr>\n",
              "      <th>37</th>\n",
              "      <td>ham</td>\n",
              "      <td>can help u swoop by picking u up from wherever...</td>\n",
              "    </tr>\n",
              "  </tbody>\n",
              "</table>\n",
              "<p>1010 rows × 2 columns</p>\n",
              "</div>\n",
              "      <button class=\"colab-df-convert\" onclick=\"convertToInteractive('df-d94816e2-34d7-4876-a094-f645e42dca41')\"\n",
              "              title=\"Convert this dataframe to an interactive table.\"\n",
              "              style=\"display:none;\">\n",
              "        \n",
              "  <svg xmlns=\"http://www.w3.org/2000/svg\" height=\"24px\"viewBox=\"0 0 24 24\"\n",
              "       width=\"24px\">\n",
              "    <path d=\"M0 0h24v24H0V0z\" fill=\"none\"/>\n",
              "    <path d=\"M18.56 5.44l.94 2.06.94-2.06 2.06-.94-2.06-.94-.94-2.06-.94 2.06-2.06.94zm-11 1L8.5 8.5l.94-2.06 2.06-.94-2.06-.94L8.5 2.5l-.94 2.06-2.06.94zm10 10l.94 2.06.94-2.06 2.06-.94-2.06-.94-.94-2.06-.94 2.06-2.06.94z\"/><path d=\"M17.41 7.96l-1.37-1.37c-.4-.4-.92-.59-1.43-.59-.52 0-1.04.2-1.43.59L10.3 9.45l-7.72 7.72c-.78.78-.78 2.05 0 2.83L4 21.41c.39.39.9.59 1.41.59.51 0 1.02-.2 1.41-.59l7.78-7.78 2.81-2.81c.8-.78.8-2.07 0-2.86zM5.41 20L4 18.59l7.72-7.72 1.47 1.35L5.41 20z\"/>\n",
              "  </svg>\n",
              "      </button>\n",
              "      \n",
              "  <style>\n",
              "    .colab-df-container {\n",
              "      display:flex;\n",
              "      flex-wrap:wrap;\n",
              "      gap: 12px;\n",
              "    }\n",
              "\n",
              "    .colab-df-convert {\n",
              "      background-color: #E8F0FE;\n",
              "      border: none;\n",
              "      border-radius: 50%;\n",
              "      cursor: pointer;\n",
              "      display: none;\n",
              "      fill: #1967D2;\n",
              "      height: 32px;\n",
              "      padding: 0 0 0 0;\n",
              "      width: 32px;\n",
              "    }\n",
              "\n",
              "    .colab-df-convert:hover {\n",
              "      background-color: #E2EBFA;\n",
              "      box-shadow: 0px 1px 2px rgba(60, 64, 67, 0.3), 0px 1px 3px 1px rgba(60, 64, 67, 0.15);\n",
              "      fill: #174EA6;\n",
              "    }\n",
              "\n",
              "    [theme=dark] .colab-df-convert {\n",
              "      background-color: #3B4455;\n",
              "      fill: #D2E3FC;\n",
              "    }\n",
              "\n",
              "    [theme=dark] .colab-df-convert:hover {\n",
              "      background-color: #434B5C;\n",
              "      box-shadow: 0px 1px 3px 1px rgba(0, 0, 0, 0.15);\n",
              "      filter: drop-shadow(0px 1px 2px rgba(0, 0, 0, 0.3));\n",
              "      fill: #FFFFFF;\n",
              "    }\n",
              "  </style>\n",
              "\n",
              "      <script>\n",
              "        const buttonEl =\n",
              "          document.querySelector('#df-d94816e2-34d7-4876-a094-f645e42dca41 button.colab-df-convert');\n",
              "        buttonEl.style.display =\n",
              "          google.colab.kernel.accessAllowed ? 'block' : 'none';\n",
              "\n",
              "        async function convertToInteractive(key) {\n",
              "          const element = document.querySelector('#df-d94816e2-34d7-4876-a094-f645e42dca41');\n",
              "          const dataTable =\n",
              "            await google.colab.kernel.invokeFunction('convertToInteractive',\n",
              "                                                     [key], {});\n",
              "          if (!dataTable) return;\n",
              "\n",
              "          const docLinkHtml = 'Like what you see? Visit the ' +\n",
              "            '<a target=\"_blank\" href=https://colab.research.google.com/notebooks/data_table.ipynb>data table notebook</a>'\n",
              "            + ' to learn more about interactive tables.';\n",
              "          element.innerHTML = '';\n",
              "          dataTable['output_type'] = 'display_data';\n",
              "          await google.colab.output.renderOutput(dataTable, element);\n",
              "          const docLink = document.createElement('div');\n",
              "          docLink.innerHTML = docLinkHtml;\n",
              "          element.appendChild(docLink);\n",
              "        }\n",
              "      </script>\n",
              "    </div>\n",
              "  </div>\n",
              "  "
            ],
            "text/plain": [
              "    Classification                                            Message\n",
              "915           spam  someone u know has asked our dating service 2 ...\n",
              "701           spam  urgent! your mobile number has been awarded wi...\n",
              "293            ham   not for possession, especially not first offense\n",
              "507           spam  i'd like to tell you my deepest darkest fantas...\n",
              "970           spam  urgent! call 09066612661 from landline. your c...\n",
              "..             ...                                                ...\n",
              "767           spam  please call 08712402902 immediately as there i...\n",
              "72             ham                   i love to wine and dine my lady!\n",
              "908           spam  pdate_now - double mins and 1000 txts on orang...\n",
              "235            ham                      ü takin linear algebra today?\n",
              "37             ham  can help u swoop by picking u up from wherever...\n",
              "\n",
              "[1010 rows x 2 columns]"
            ]
          },
          "metadata": {},
          "execution_count": 8
        }
      ]
    },
    {
      "cell_type": "markdown",
      "source": [
        "# New Section"
      ],
      "metadata": {
        "id": "EfONlfzrpxQp"
      }
    },
    {
      "cell_type": "code",
      "source": [
        "# Encode hams as 0, spams as 1 to allow for a binary model\n",
        "trainSet['Classification'] = trainSet['Classification'].map({'ham':0, 'spam':1})\n",
        "valid_files['Classification'] = valid_files['Classification'].map({'ham':0, 'spam':1})\n",
        "\n",
        "trainSet.head()"
      ],
      "metadata": {
        "id": "zvmW5DR9FMRE",
        "colab": {
          "base_uri": "https://localhost:8080/",
          "height": 206
        },
        "outputId": "7bf1cf93-5394-4586-dc7d-5fb404ef5866"
      },
      "execution_count": null,
      "outputs": [
        {
          "output_type": "execute_result",
          "data": {
            "text/html": [
              "\n",
              "  <div id=\"df-b95eb2b1-b4bf-4f68-b9d2-6032febd3609\">\n",
              "    <div class=\"colab-df-container\">\n",
              "      <div>\n",
              "<style scoped>\n",
              "    .dataframe tbody tr th:only-of-type {\n",
              "        vertical-align: middle;\n",
              "    }\n",
              "\n",
              "    .dataframe tbody tr th {\n",
              "        vertical-align: top;\n",
              "    }\n",
              "\n",
              "    .dataframe thead th {\n",
              "        text-align: right;\n",
              "    }\n",
              "</style>\n",
              "<table border=\"1\" class=\"dataframe\">\n",
              "  <thead>\n",
              "    <tr style=\"text-align: right;\">\n",
              "      <th></th>\n",
              "      <th>Classification</th>\n",
              "      <th>Message</th>\n",
              "    </tr>\n",
              "  </thead>\n",
              "  <tbody>\n",
              "    <tr>\n",
              "      <th>915</th>\n",
              "      <td>1</td>\n",
              "      <td>someone u know has asked our dating service 2 ...</td>\n",
              "    </tr>\n",
              "    <tr>\n",
              "      <th>701</th>\n",
              "      <td>1</td>\n",
              "      <td>urgent! your mobile number has been awarded wi...</td>\n",
              "    </tr>\n",
              "    <tr>\n",
              "      <th>293</th>\n",
              "      <td>0</td>\n",
              "      <td>not for possession, especially not first offense</td>\n",
              "    </tr>\n",
              "    <tr>\n",
              "      <th>507</th>\n",
              "      <td>1</td>\n",
              "      <td>i'd like to tell you my deepest darkest fantas...</td>\n",
              "    </tr>\n",
              "    <tr>\n",
              "      <th>970</th>\n",
              "      <td>1</td>\n",
              "      <td>urgent! call 09066612661 from landline. your c...</td>\n",
              "    </tr>\n",
              "  </tbody>\n",
              "</table>\n",
              "</div>\n",
              "      <button class=\"colab-df-convert\" onclick=\"convertToInteractive('df-b95eb2b1-b4bf-4f68-b9d2-6032febd3609')\"\n",
              "              title=\"Convert this dataframe to an interactive table.\"\n",
              "              style=\"display:none;\">\n",
              "        \n",
              "  <svg xmlns=\"http://www.w3.org/2000/svg\" height=\"24px\"viewBox=\"0 0 24 24\"\n",
              "       width=\"24px\">\n",
              "    <path d=\"M0 0h24v24H0V0z\" fill=\"none\"/>\n",
              "    <path d=\"M18.56 5.44l.94 2.06.94-2.06 2.06-.94-2.06-.94-.94-2.06-.94 2.06-2.06.94zm-11 1L8.5 8.5l.94-2.06 2.06-.94-2.06-.94L8.5 2.5l-.94 2.06-2.06.94zm10 10l.94 2.06.94-2.06 2.06-.94-2.06-.94-.94-2.06-.94 2.06-2.06.94z\"/><path d=\"M17.41 7.96l-1.37-1.37c-.4-.4-.92-.59-1.43-.59-.52 0-1.04.2-1.43.59L10.3 9.45l-7.72 7.72c-.78.78-.78 2.05 0 2.83L4 21.41c.39.39.9.59 1.41.59.51 0 1.02-.2 1.41-.59l7.78-7.78 2.81-2.81c.8-.78.8-2.07 0-2.86zM5.41 20L4 18.59l7.72-7.72 1.47 1.35L5.41 20z\"/>\n",
              "  </svg>\n",
              "      </button>\n",
              "      \n",
              "  <style>\n",
              "    .colab-df-container {\n",
              "      display:flex;\n",
              "      flex-wrap:wrap;\n",
              "      gap: 12px;\n",
              "    }\n",
              "\n",
              "    .colab-df-convert {\n",
              "      background-color: #E8F0FE;\n",
              "      border: none;\n",
              "      border-radius: 50%;\n",
              "      cursor: pointer;\n",
              "      display: none;\n",
              "      fill: #1967D2;\n",
              "      height: 32px;\n",
              "      padding: 0 0 0 0;\n",
              "      width: 32px;\n",
              "    }\n",
              "\n",
              "    .colab-df-convert:hover {\n",
              "      background-color: #E2EBFA;\n",
              "      box-shadow: 0px 1px 2px rgba(60, 64, 67, 0.3), 0px 1px 3px 1px rgba(60, 64, 67, 0.15);\n",
              "      fill: #174EA6;\n",
              "    }\n",
              "\n",
              "    [theme=dark] .colab-df-convert {\n",
              "      background-color: #3B4455;\n",
              "      fill: #D2E3FC;\n",
              "    }\n",
              "\n",
              "    [theme=dark] .colab-df-convert:hover {\n",
              "      background-color: #434B5C;\n",
              "      box-shadow: 0px 1px 3px 1px rgba(0, 0, 0, 0.15);\n",
              "      filter: drop-shadow(0px 1px 2px rgba(0, 0, 0, 0.3));\n",
              "      fill: #FFFFFF;\n",
              "    }\n",
              "  </style>\n",
              "\n",
              "      <script>\n",
              "        const buttonEl =\n",
              "          document.querySelector('#df-b95eb2b1-b4bf-4f68-b9d2-6032febd3609 button.colab-df-convert');\n",
              "        buttonEl.style.display =\n",
              "          google.colab.kernel.accessAllowed ? 'block' : 'none';\n",
              "\n",
              "        async function convertToInteractive(key) {\n",
              "          const element = document.querySelector('#df-b95eb2b1-b4bf-4f68-b9d2-6032febd3609');\n",
              "          const dataTable =\n",
              "            await google.colab.kernel.invokeFunction('convertToInteractive',\n",
              "                                                     [key], {});\n",
              "          if (!dataTable) return;\n",
              "\n",
              "          const docLinkHtml = 'Like what you see? Visit the ' +\n",
              "            '<a target=\"_blank\" href=https://colab.research.google.com/notebooks/data_table.ipynb>data table notebook</a>'\n",
              "            + ' to learn more about interactive tables.';\n",
              "          element.innerHTML = '';\n",
              "          dataTable['output_type'] = 'display_data';\n",
              "          await google.colab.output.renderOutput(dataTable, element);\n",
              "          const docLink = document.createElement('div');\n",
              "          docLink.innerHTML = docLinkHtml;\n",
              "          element.appendChild(docLink);\n",
              "        }\n",
              "      </script>\n",
              "    </div>\n",
              "  </div>\n",
              "  "
            ],
            "text/plain": [
              "     Classification                                            Message\n",
              "915               1  someone u know has asked our dating service 2 ...\n",
              "701               1  urgent! your mobile number has been awarded wi...\n",
              "293               0   not for possession, especially not first offense\n",
              "507               1  i'd like to tell you my deepest darkest fantas...\n",
              "970               1  urgent! call 09066612661 from landline. your c..."
            ]
          },
          "metadata": {},
          "execution_count": 9
        }
      ]
    },
    {
      "cell_type": "code",
      "source": [
        "vocab_size = 1000\n",
        "embedding_dim = 16\n",
        "max_length = 100\n",
        "trunc_type='post'\n",
        "padding_type='post'\n",
        "oov_tok = \"<OOV>\""
      ],
      "metadata": {
        "id": "c3QwAaDHuEvd"
      },
      "execution_count": null,
      "outputs": []
    },
    {
      "cell_type": "code",
      "source": [
        "tokenizer = Tokenizer(num_words = vocab_size, char_level=False, oov_token=oov_tok)\n",
        "tokenizer.fit_on_texts(trainSet['Message'])\n",
        "X_train = tokenizer.texts_to_sequences(trainSet['Message'])\n",
        "X_test = tokenizer.texts_to_sequences(valid_files['Message'])\n",
        "\n",
        "X_train_padded = pad_sequences(X_train, maxlen=max_length, padding=padding_type, truncating=trunc_type)\n",
        "X_test_padded = pad_sequences(X_test, maxlen=max_length, padding=padding_type, truncating=trunc_type)\n",
        "\n",
        "Y_test = valid_files['Classification']\n",
        "Y_train = trainSet['Classification']\n",
        "\n",
        "Y_train_array = np.array(Y_train)\n",
        "Y_test_array = np.array(Y_test)\n",
        "\n",
        "word_index = tokenizer.word_index"
      ],
      "metadata": {
        "id": "GbYAcsF3f4lo"
      },
      "execution_count": null,
      "outputs": []
    },
    {
      "cell_type": "code",
      "source": [
        "model = tf.keras.Sequential([\n",
        "    tf.keras.layers.Embedding(vocab_size, embedding_dim, input_length=max_length),\n",
        "    tf.keras.layers.GlobalAveragePooling1D(),\n",
        "  \n",
        "    tf.keras.layers.Dense(8, activation='relu'),  tf.keras.layers.Dropout(0.25),\n",
        "    tf.keras.layers.Dense(1, activation='sigmoid')\n",
        "])\n",
        "model.compile(loss='binary_crossentropy',optimizer='adam',metrics=['accuracy'])\n",
        "model.summary()"
      ],
      "metadata": {
        "id": "ZcC0D-SI-KA4",
        "colab": {
          "base_uri": "https://localhost:8080/"
        },
        "outputId": "9cd9a51a-9d3c-43be-e9fa-80b0e01f5261"
      },
      "execution_count": null,
      "outputs": [
        {
          "output_type": "stream",
          "name": "stdout",
          "text": [
            "Model: \"sequential\"\n",
            "_________________________________________________________________\n",
            " Layer (type)                Output Shape              Param #   \n",
            "=================================================================\n",
            " embedding (Embedding)       (None, 100, 16)           16000     \n",
            "                                                                 \n",
            " global_average_pooling1d (G  (None, 16)               0         \n",
            " lobalAveragePooling1D)                                          \n",
            "                                                                 \n",
            " dense (Dense)               (None, 8)                 136       \n",
            "                                                                 \n",
            " dropout (Dropout)           (None, 8)                 0         \n",
            "                                                                 \n",
            " dense_1 (Dense)             (None, 1)                 9         \n",
            "                                                                 \n",
            "=================================================================\n",
            "Total params: 16,145\n",
            "Trainable params: 16,145\n",
            "Non-trainable params: 0\n",
            "_________________________________________________________________\n"
          ]
        }
      ]
    },
    {
      "cell_type": "code",
      "source": [
        "num_epochs = 55\n",
        "history = model.fit(X_train_padded, Y_train_array, epochs=num_epochs, validation_data=(X_test_padded, Y_test_array))"
      ],
      "metadata": {
        "id": "ceVGvjTr6EU5",
        "colab": {
          "base_uri": "https://localhost:8080/"
        },
        "outputId": "bef2b124-a2be-4555-aa16-a74b7572358c"
      },
      "execution_count": null,
      "outputs": [
        {
          "output_type": "stream",
          "name": "stdout",
          "text": [
            "Epoch 1/55\n",
            "32/32 [==============================] - 2s 44ms/step - loss: 0.6922 - accuracy: 0.4990 - val_loss: 0.6735 - val_accuracy: 0.8695\n",
            "Epoch 2/55\n",
            "32/32 [==============================] - 0s 5ms/step - loss: 0.6884 - accuracy: 0.5307 - val_loss: 0.6686 - val_accuracy: 0.8695\n",
            "Epoch 3/55\n",
            "32/32 [==============================] - 0s 5ms/step - loss: 0.6858 - accuracy: 0.4861 - val_loss: 0.6599 - val_accuracy: 0.8658\n",
            "Epoch 4/55\n",
            "32/32 [==============================] - 0s 4ms/step - loss: 0.6775 - accuracy: 0.5584 - val_loss: 0.6481 - val_accuracy: 0.8844\n",
            "Epoch 5/55\n",
            "32/32 [==============================] - 1s 45ms/step - loss: 0.6665 - accuracy: 0.6495 - val_loss: 0.6355 - val_accuracy: 0.9474\n",
            "Epoch 6/55\n",
            "32/32 [==============================] - 0s 5ms/step - loss: 0.6409 - accuracy: 0.8446 - val_loss: 0.5996 - val_accuracy: 0.9526\n",
            "Epoch 7/55\n",
            "32/32 [==============================] - 0s 4ms/step - loss: 0.6010 - accuracy: 0.8693 - val_loss: 0.5903 - val_accuracy: 0.9199\n",
            "Epoch 8/55\n",
            "32/32 [==============================] - 0s 4ms/step - loss: 0.5633 - accuracy: 0.8792 - val_loss: 0.5081 - val_accuracy: 0.9489\n",
            "Epoch 9/55\n",
            "32/32 [==============================] - 1s 17ms/step - loss: 0.5161 - accuracy: 0.8762 - val_loss: 0.4666 - val_accuracy: 0.9451\n",
            "Epoch 10/55\n",
            "32/32 [==============================] - 0s 4ms/step - loss: 0.4632 - accuracy: 0.8881 - val_loss: 0.4348 - val_accuracy: 0.9377\n",
            "Epoch 11/55\n",
            "32/32 [==============================] - 0s 5ms/step - loss: 0.4092 - accuracy: 0.8901 - val_loss: 0.3867 - val_accuracy: 0.9377\n",
            "Epoch 12/55\n",
            "32/32 [==============================] - 0s 4ms/step - loss: 0.3587 - accuracy: 0.9099 - val_loss: 0.3662 - val_accuracy: 0.9340\n",
            "Epoch 13/55\n",
            "32/32 [==============================] - 0s 11ms/step - loss: 0.3269 - accuracy: 0.9000 - val_loss: 0.3241 - val_accuracy: 0.9377\n",
            "Epoch 14/55\n",
            "32/32 [==============================] - 0s 5ms/step - loss: 0.2972 - accuracy: 0.9109 - val_loss: 0.2963 - val_accuracy: 0.9377\n",
            "Epoch 15/55\n",
            "32/32 [==============================] - 0s 4ms/step - loss: 0.2662 - accuracy: 0.9208 - val_loss: 0.2614 - val_accuracy: 0.9437\n",
            "Epoch 16/55\n",
            "32/32 [==============================] - 0s 5ms/step - loss: 0.2468 - accuracy: 0.9168 - val_loss: 0.2498 - val_accuracy: 0.9429\n",
            "Epoch 17/55\n",
            "32/32 [==============================] - 0s 5ms/step - loss: 0.2259 - accuracy: 0.9218 - val_loss: 0.2234 - val_accuracy: 0.9496\n",
            "Epoch 18/55\n",
            "32/32 [==============================] - 0s 5ms/step - loss: 0.2066 - accuracy: 0.9267 - val_loss: 0.2264 - val_accuracy: 0.9474\n",
            "Epoch 19/55\n",
            "32/32 [==============================] - 0s 5ms/step - loss: 0.1977 - accuracy: 0.9248 - val_loss: 0.1831 - val_accuracy: 0.9570\n",
            "Epoch 20/55\n",
            "32/32 [==============================] - 0s 4ms/step - loss: 0.1849 - accuracy: 0.9307 - val_loss: 0.1989 - val_accuracy: 0.9511\n",
            "Epoch 21/55\n",
            "32/32 [==============================] - 0s 4ms/step - loss: 0.1753 - accuracy: 0.9515 - val_loss: 0.1968 - val_accuracy: 0.9518\n",
            "Epoch 22/55\n",
            "32/32 [==============================] - 0s 5ms/step - loss: 0.1689 - accuracy: 0.9455 - val_loss: 0.1688 - val_accuracy: 0.9577\n",
            "Epoch 23/55\n",
            "32/32 [==============================] - 0s 4ms/step - loss: 0.1554 - accuracy: 0.9584 - val_loss: 0.1884 - val_accuracy: 0.9555\n",
            "Epoch 24/55\n",
            "32/32 [==============================] - 0s 4ms/step - loss: 0.1538 - accuracy: 0.9515 - val_loss: 0.1669 - val_accuracy: 0.9585\n",
            "Epoch 25/55\n",
            "32/32 [==============================] - 0s 4ms/step - loss: 0.1528 - accuracy: 0.9545 - val_loss: 0.1830 - val_accuracy: 0.9563\n",
            "Epoch 26/55\n",
            "32/32 [==============================] - 0s 10ms/step - loss: 0.1514 - accuracy: 0.9446 - val_loss: 0.1653 - val_accuracy: 0.9592\n",
            "Epoch 27/55\n",
            "32/32 [==============================] - 0s 5ms/step - loss: 0.1415 - accuracy: 0.9614 - val_loss: 0.1658 - val_accuracy: 0.9600\n",
            "Epoch 28/55\n",
            "32/32 [==============================] - 0s 5ms/step - loss: 0.1329 - accuracy: 0.9683 - val_loss: 0.1472 - val_accuracy: 0.9622\n",
            "Epoch 29/55\n",
            "32/32 [==============================] - 0s 5ms/step - loss: 0.1331 - accuracy: 0.9683 - val_loss: 0.1519 - val_accuracy: 0.9607\n",
            "Epoch 30/55\n",
            "32/32 [==============================] - 0s 5ms/step - loss: 0.1147 - accuracy: 0.9693 - val_loss: 0.1692 - val_accuracy: 0.9585\n",
            "Epoch 31/55\n",
            "32/32 [==============================] - 0s 4ms/step - loss: 0.1228 - accuracy: 0.9604 - val_loss: 0.1438 - val_accuracy: 0.9622\n",
            "Epoch 32/55\n",
            "32/32 [==============================] - 0s 5ms/step - loss: 0.1172 - accuracy: 0.9723 - val_loss: 0.1258 - val_accuracy: 0.9652\n",
            "Epoch 33/55\n",
            "32/32 [==============================] - 0s 4ms/step - loss: 0.1137 - accuracy: 0.9663 - val_loss: 0.1291 - val_accuracy: 0.9659\n",
            "Epoch 34/55\n",
            "32/32 [==============================] - 0s 5ms/step - loss: 0.1113 - accuracy: 0.9663 - val_loss: 0.1361 - val_accuracy: 0.9629\n",
            "Epoch 35/55\n",
            "32/32 [==============================] - 0s 4ms/step - loss: 0.0953 - accuracy: 0.9723 - val_loss: 0.1353 - val_accuracy: 0.9629\n",
            "Epoch 36/55\n",
            "32/32 [==============================] - 0s 5ms/step - loss: 0.1050 - accuracy: 0.9693 - val_loss: 0.1454 - val_accuracy: 0.9615\n",
            "Epoch 37/55\n",
            "32/32 [==============================] - 0s 4ms/step - loss: 0.1113 - accuracy: 0.9673 - val_loss: 0.1159 - val_accuracy: 0.9689\n",
            "Epoch 38/55\n",
            "32/32 [==============================] - 0s 5ms/step - loss: 0.1072 - accuracy: 0.9703 - val_loss: 0.1235 - val_accuracy: 0.9666\n",
            "Epoch 39/55\n",
            "32/32 [==============================] - 0s 4ms/step - loss: 0.0897 - accuracy: 0.9792 - val_loss: 0.1250 - val_accuracy: 0.9652\n",
            "Epoch 40/55\n",
            "32/32 [==============================] - 0s 4ms/step - loss: 0.0894 - accuracy: 0.9772 - val_loss: 0.1267 - val_accuracy: 0.9652\n",
            "Epoch 41/55\n",
            "32/32 [==============================] - 0s 5ms/step - loss: 0.0966 - accuracy: 0.9772 - val_loss: 0.1165 - val_accuracy: 0.9674\n",
            "Epoch 42/55\n",
            "32/32 [==============================] - 0s 16ms/step - loss: 0.0833 - accuracy: 0.9762 - val_loss: 0.1180 - val_accuracy: 0.9674\n",
            "Epoch 43/55\n",
            "32/32 [==============================] - 0s 5ms/step - loss: 0.0840 - accuracy: 0.9802 - val_loss: 0.1446 - val_accuracy: 0.9592\n",
            "Epoch 44/55\n",
            "32/32 [==============================] - 0s 5ms/step - loss: 0.0833 - accuracy: 0.9752 - val_loss: 0.1126 - val_accuracy: 0.9689\n",
            "Epoch 45/55\n",
            "32/32 [==============================] - 0s 4ms/step - loss: 0.0832 - accuracy: 0.9792 - val_loss: 0.1146 - val_accuracy: 0.9689\n",
            "Epoch 46/55\n",
            "32/32 [==============================] - 0s 5ms/step - loss: 0.0766 - accuracy: 0.9832 - val_loss: 0.1285 - val_accuracy: 0.9637\n",
            "Epoch 47/55\n",
            "32/32 [==============================] - 0s 4ms/step - loss: 0.0774 - accuracy: 0.9832 - val_loss: 0.1273 - val_accuracy: 0.9629\n",
            "Epoch 48/55\n",
            "32/32 [==============================] - 0s 16ms/step - loss: 0.0782 - accuracy: 0.9802 - val_loss: 0.1106 - val_accuracy: 0.9703\n",
            "Epoch 49/55\n",
            "32/32 [==============================] - 0s 5ms/step - loss: 0.0704 - accuracy: 0.9851 - val_loss: 0.1454 - val_accuracy: 0.9577\n",
            "Epoch 50/55\n",
            "32/32 [==============================] - 0s 5ms/step - loss: 0.0644 - accuracy: 0.9812 - val_loss: 0.1068 - val_accuracy: 0.9703\n",
            "Epoch 51/55\n",
            "32/32 [==============================] - 0s 4ms/step - loss: 0.0652 - accuracy: 0.9851 - val_loss: 0.1297 - val_accuracy: 0.9607\n",
            "Epoch 52/55\n",
            "32/32 [==============================] - 0s 9ms/step - loss: 0.0677 - accuracy: 0.9812 - val_loss: 0.1202 - val_accuracy: 0.9652\n",
            "Epoch 53/55\n",
            "32/32 [==============================] - 0s 4ms/step - loss: 0.0585 - accuracy: 0.9911 - val_loss: 0.1086 - val_accuracy: 0.9681\n",
            "Epoch 54/55\n",
            "32/32 [==============================] - 0s 4ms/step - loss: 0.0593 - accuracy: 0.9871 - val_loss: 0.1106 - val_accuracy: 0.9681\n",
            "Epoch 55/55\n",
            "32/32 [==============================] - 0s 4ms/step - loss: 0.0680 - accuracy: 0.9792 - val_loss: 0.1173 - val_accuracy: 0.9659\n"
          ]
        }
      ]
    },
    {
      "cell_type": "code",
      "source": [
        "import matplotlib.pyplot as plt\n",
        "acc = history.history['accuracy']\n",
        "val_acc = history.history['val_accuracy']\n",
        "\n",
        "loss = history.history['loss']\n",
        "val_loss = history.history['val_loss']\n",
        "\n",
        "epochs_range = range(num_epochs)\n",
        "\n",
        "plt.figure(figsize=(8, 8))\n",
        "plt.subplot(1, 2, 1)\n",
        "plt.plot(epochs_range, acc, label='Training Accuracy')\n",
        "plt.plot(epochs_range, val_acc, label='Validation Accuracy')\n",
        "plt.legend(loc='lower right')\n",
        "plt.title('Training and Validation Accuracy')\n",
        "\n",
        "plt.subplot(1, 2, 2)\n",
        "plt.plot(epochs_range, loss, label='Training Loss')\n",
        "plt.plot(epochs_range, val_loss, label='Validation Loss')\n",
        "plt.legend(loc='upper right')\n",
        "plt.title('Training and Validation Loss')\n",
        "plt.show()\n"
      ],
      "metadata": {
        "id": "97JdNALPrRR1",
        "colab": {
          "base_uri": "https://localhost:8080/",
          "height": 498
        },
        "outputId": "54e4c46c-44ad-426b-bf3a-b03f8fb9aad1"
      },
      "execution_count": null,
      "outputs": [
        {
          "output_type": "display_data",
          "data": {
            "image/png": "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\n",
            "text/plain": [
              "<Figure size 576x576 with 2 Axes>"
            ]
          },
          "metadata": {
            "needs_background": "light"
          }
        }
      ]
    },
    {
      "cell_type": "code",
      "execution_count": null,
      "metadata": {
        "id": "J9tD9yACG6M9",
        "colab": {
          "base_uri": "https://localhost:8080/"
        },
        "outputId": "1d237cb0-59cf-48ff-c42d-e21b225ecc9f"
      },
      "outputs": [
        {
          "output_type": "stream",
          "name": "stdout",
          "text": [
            "[0.01832077, 'ham']\n",
            "[0.01832077, 'ham']\n"
          ]
        }
      ],
      "source": [
        "# function to predict messages based on model\n",
        "# (should return list containing prediction and label, ex. [0.008318834938108921, 'ham'])\n",
        "def predict_message(pred_text):\n",
        "  predictions = []\n",
        "  pred_text = pd.Series(pred_text)\n",
        "  tokenized_string = tokenizer.texts_to_sequences(pred_text)\n",
        "  pad_text_sequence = pad_sequences(tokenized_string, maxlen=max_length)\n",
        "  result = model.predict(pad_text_sequence)[0]\n",
        "  \n",
        "  if result[0] <= 0.5:\n",
        "    predictions = [result[0], \"ham\"]\n",
        "  else:\n",
        "    predictions = [result[0], \"spam\"]\n",
        "  print(predictions)\n",
        "  return predictions\n",
        "\n",
        "\n",
        "pred_text = \"how are you doing today?\"\n",
        "\n",
        "prediction = predict_message(pred_text)\n",
        "print(prediction)\n"
      ]
    },
    {
      "cell_type": "code",
      "execution_count": null,
      "metadata": {
        "id": "Dxotov85SjsC",
        "colab": {
          "base_uri": "https://localhost:8080/"
        },
        "outputId": "2fb4be91-49fb-4f7f-b214-374093e41960"
      },
      "outputs": [
        {
          "output_type": "stream",
          "name": "stdout",
          "text": [
            "[0.01832077, 'ham']\n",
            "[0.58677477, 'spam']\n",
            "[0.018805355, 'ham']\n",
            "[0.9959966, 'spam']\n",
            "[0.99592066, 'spam']\n",
            "[0.010900795, 'ham']\n",
            "[0.017705321, 'ham']\n",
            "You passed the challenge. Great job!\n"
          ]
        }
      ],
      "source": [
        "# Run this cell to test your function and model. Do not modify contents.\n",
        "def test_predictions():\n",
        "  test_messages = [\"how are you doing today\",\n",
        "                   \"sale today! to stop texts call 98912460324\",\n",
        "                   \"i dont want to go. can we try it a different day? available sat\",\n",
        "                   \"our new mobile video service is live. just install on your phone to start watching.\",\n",
        "                   \"you have won £1000 cash! call to claim your prize.\",\n",
        "                   \"i'll bring it tomorrow. don't forget the milk.\",\n",
        "                   \"wow, is your arm alright. that happened to me one time too\"\n",
        "                  ]\n",
        "\n",
        "  test_answers = [\"ham\", \"spam\", \"ham\", \"spam\", \"spam\", \"ham\", \"ham\"]\n",
        "  passed = True\n",
        "\n",
        "  for msg, ans in zip(test_messages, test_answers):\n",
        "    prediction = predict_message(msg)\n",
        "    if prediction[1] != ans:\n",
        "      passed = False\n",
        "\n",
        "  if passed:\n",
        "    print(\"You passed the challenge. Great job!\")\n",
        "  else:\n",
        "    print(\"You haven't passed yet. Keep trying.\")\n",
        "\n",
        "test_predictions()\n"
      ]
    }
  ],
  "metadata": {
    "colab": {
      "collapsed_sections": [],
      "name": "Copy of SMS_text_classification.ipynb",
      "provenance": [],
      "history_visible": true,
      "toc_visible": true,
      "include_colab_link": true
    },
      "kernelspec":{
         "display_name":"Python 3",
         "name":"python3"
      },
      "language_info":{
         "name":"Python",
         "version":"3.6.9"
      },
      "nbformat":4,
      "nbformat_minor":0
   }
}
