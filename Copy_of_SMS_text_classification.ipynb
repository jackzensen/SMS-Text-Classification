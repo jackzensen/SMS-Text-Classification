{
  "cells": [
    {
      "cell_type": "markdown",
      "metadata": {
        "id": "view-in-github",
        "colab_type": "text"
      },
      "source": [
        "<a href=\"https://colab.research.google.com/github/jackzensen/SMS-Text-Classification/blob/main/Copy_of_SMS_text_classification.ipynb\" target=\"_parent\"><img src=\"https://colab.research.google.com/assets/colab-badge.svg\" alt=\"Open In Colab\"/></a>"
      ]
    },
    {
      "cell_type": "markdown",
      "metadata": {
        "id": "Eg62Pmz3o83v"
      },
      "source": [
        "*Note: You are currently reading this using Google Colaboratory which is a cloud-hosted version of Jupyter Notebook. This is a document containing both text cells for documentation and runnable code cells. If you are unfamiliar with Jupyter Notebook, watch this 3-minute introduction before starting this challenge: https://www.youtube.com/watch?v=inN8seMm7UI*\n",
        "\n",
        "---\n",
        "\n",
        "In this challenge, you need to create a machine learning model that will classify SMS messages as either \"ham\" or \"spam\". A \"ham\" message is a normal message sent by a friend. A \"spam\" message is an advertisement or a message sent by a company.\n",
        "\n",
        "You should create a function called `predict_message` that takes a message string as an argument and returns a list. The first element in the list should be a number between zero and one that indicates the likeliness of \"ham\" (0) or \"spam\" (1). The second element in the list should be the word \"ham\" or \"spam\", depending on which is most likely.\n",
        "\n",
        "For this challenge, you will use the [SMS Spam Collection dataset](http://www.dt.fee.unicamp.br/~tiago/smsspamcollection/). The dataset has already been grouped into train data and test data.\n",
        "\n",
        "The first two cells import the libraries and data. The final cell tests your model and function. Add your code in between these cells.\n"
      ]
    },
    {
      "cell_type": "code",
      "execution_count": 1,
      "metadata": {
        "id": "8RZOuS9LWQvv",
        "colab": {
          "base_uri": "https://localhost:8080/"
        },
        "outputId": "b370cdb8-c59e-48a0-f018-626514cf01d3"
      },
      "outputs": [
        {
          "output_type": "stream",
          "name": "stdout",
          "text": [
            "\u001b[K     |████████████████████████████████| 4.9 MB 8.8 MB/s \n",
            "\u001b[?25h2.7.0\n"
          ]
        }
      ],
      "source": [
        "# import libraries\n",
        "# try:\n",
        "#   # %tensorflow_version only exists in Colab.\n",
        "#   !pip install tf-nightly\n",
        "# except Exception:\n",
        "#   pass\n",
        "# !pip install tensorflow\n",
        "# !pip install numpy --upgrade --ignore-installed\n",
        "!pip install -q tensorflow-text\n",
        "\n",
        "import requests\n",
        "import tensorflow_text as tf_text\n",
        "import tensorflow as tf\n",
        "import pandas as pd\n",
        "from tensorflow import keras\n",
        "# !pip install tensorflow-datasets\n",
        "import tensorflow_datasets as tfds\n",
        "import numpy as np\n",
        "import matplotlib.pyplot as plt\n",
        "from tensorflow.keras.preprocessing.text import Tokenizer\n",
        "from tensorflow.keras.preprocessing.sequence import pad_sequences\n",
        "print(tf.__version__)"
      ]
    },
    {
      "cell_type": "code",
      "execution_count": 2,
      "metadata": {
        "id": "lMHwYXHXCar3",
        "colab": {
          "base_uri": "https://localhost:8080/"
        },
        "outputId": "613104ef-127f-46b3-db22-d3bd780d22e4"
      },
      "outputs": [
        {
          "output_type": "stream",
          "name": "stdout",
          "text": [
            "--2022-01-20 07:59:19--  https://cdn.freecodecamp.org/project-data/sms/train-data.tsv\n",
            "Resolving cdn.freecodecamp.org (cdn.freecodecamp.org)... 104.26.3.33, 104.26.2.33, 172.67.70.149, ...\n",
            "Connecting to cdn.freecodecamp.org (cdn.freecodecamp.org)|104.26.3.33|:443... connected.\n",
            "HTTP request sent, awaiting response... 200 OK\n",
            "Length: 358233 (350K) [text/tab-separated-values]\n",
            "Saving to: ‘train-data.tsv’\n",
            "\n",
            "train-data.tsv      100%[===================>] 349.84K  --.-KB/s    in 0.1s    \n",
            "\n",
            "2022-01-20 07:59:20 (2.90 MB/s) - ‘train-data.tsv’ saved [358233/358233]\n",
            "\n",
            "--2022-01-20 07:59:20--  https://cdn.freecodecamp.org/project-data/sms/valid-data.tsv\n",
            "Resolving cdn.freecodecamp.org (cdn.freecodecamp.org)... 104.26.3.33, 104.26.2.33, 172.67.70.149, ...\n",
            "Connecting to cdn.freecodecamp.org (cdn.freecodecamp.org)|104.26.3.33|:443... connected.\n",
            "HTTP request sent, awaiting response... 200 OK\n",
            "Length: 118774 (116K) [text/tab-separated-values]\n",
            "Saving to: ‘valid-data.tsv’\n",
            "\n",
            "valid-data.tsv      100%[===================>] 115.99K  --.-KB/s    in 0.008s  \n",
            "\n",
            "2022-01-20 07:59:20 (14.2 MB/s) - ‘valid-data.tsv’ saved [118774/118774]\n",
            "\n"
          ]
        }
      ],
      "source": [
        "# get data files\n",
        "!wget https://cdn.freecodecamp.org/project-data/sms/train-data.tsv\n",
        "!wget https://cdn.freecodecamp.org/project-data/sms/valid-data.tsv\n",
        "\n",
        "train_file_path = \"train-data.tsv\"\n",
        "test_file_path = \"valid-data.tsv\"\n",
        "\n",
        "train_file_path = \"https://cdn.freecodecamp.org/project-data/sms/train-data.tsv\"\n",
        "test_file_path = \"https://cdn.freecodecamp.org/project-data/sms/valid-data.tsv\""
      ]
    },
    {
      "cell_type": "code",
      "execution_count": 3,
      "metadata": {
        "id": "g_h508FEClxO"
      },
      "outputs": [],
      "source": [
        "# train_files = pd.read_csv('https://cdn.freecodecamp.org/project-data/sms/train-data.tsv', header=0, names=['label', 'message'], sep='\\t')\n",
        "train_files = pd.read_csv('train-data.tsv', sep='\\t', header=None, names=['Classification', 'Message'])\n",
        "valid_files = pd.read_csv('valid-data.tsv', sep='\\t', header=None, names=['Classification', 'Message'])"
      ]
    },
    {
      "cell_type": "code",
      "source": [
        "# Configure parameters\n",
        "batch_size = 32\n",
        "epochs = 15\n",
        "BUFFER_SIZE = 10000\n"
      ],
      "metadata": {
        "id": "5azoCJDRpDKE"
      },
      "execution_count": 4,
      "outputs": []
    },
    {
      "cell_type": "code",
      "source": [
        "!mkdir trainData\n",
        "!mv train-data.tsv trainData\n",
        "!mkdir valData\n",
        "!mv valid-data.tsv valData"
      ],
      "metadata": {
        "id": "B-1Xf9Xxw4V-"
      },
      "execution_count": 5,
      "outputs": []
    },
    {
      "cell_type": "code",
      "source": [
        "# this shows there are duplicates that probably need to be removed from the datasets\n",
        "train_files.describe()\n",
        "duplicatedRow = train_files[train_files.duplicated()]\n",
        "print(duplicatedRow[:10])"
      ],
      "metadata": {
        "id": "av302MuOIWez",
        "colab": {
          "base_uri": "https://localhost:8080/"
        },
        "outputId": "57f42a66-24e2-4b2f-9228-b0319791bc4e"
      },
      "execution_count": 6,
      "outputs": [
        {
          "output_type": "stream",
          "name": "stdout",
          "text": [
            "    Classification                                            Message\n",
            "298           spam  want to funk up ur fone with a weekly new tone...\n",
            "385            ham  ok then i will come to ur home after half an hour\n",
            "489            ham  watching cartoon, listening music &amp; at eve...\n",
            "494            ham                             sorry, i'll call later\n",
            "525            ham                             sorry, i'll call later\n",
            "530            ham  i am in escape theatre now. . going to watch k...\n",
            "555            ham                             sorry, i'll call later\n",
            "593            ham                                              ok...\n",
            "621            ham                                                ok.\n",
            "631            ham                             sorry, i'll call later\n"
          ]
        }
      ]
    },
    {
      "cell_type": "code",
      "source": [
        "# Remove duplicate entries\n",
        "train_files = train_files.drop_duplicates()\n",
        "valid_files = valid_files.drop_duplicates()\n",
        "train_files.describe()"
      ],
      "metadata": {
        "id": "9OybGHaMJ6FK",
        "colab": {
          "base_uri": "https://localhost:8080/",
          "height": 174
        },
        "outputId": "374e140b-20ad-40d2-c592-c00eb89f3f1e"
      },
      "execution_count": 7,
      "outputs": [
        {
          "output_type": "execute_result",
          "data": {
            "text/html": [
              "\n",
              "  <div id=\"df-7f2c6c6a-ed18-4810-a63e-2dd72195529f\">\n",
              "    <div class=\"colab-df-container\">\n",
              "      <div>\n",
              "<style scoped>\n",
              "    .dataframe tbody tr th:only-of-type {\n",
              "        vertical-align: middle;\n",
              "    }\n",
              "\n",
              "    .dataframe tbody tr th {\n",
              "        vertical-align: top;\n",
              "    }\n",
              "\n",
              "    .dataframe thead th {\n",
              "        text-align: right;\n",
              "    }\n",
              "</style>\n",
              "<table border=\"1\" class=\"dataframe\">\n",
              "  <thead>\n",
              "    <tr style=\"text-align: right;\">\n",
              "      <th></th>\n",
              "      <th>Classification</th>\n",
              "      <th>Message</th>\n",
              "    </tr>\n",
              "  </thead>\n",
              "  <tbody>\n",
              "    <tr>\n",
              "      <th>count</th>\n",
              "      <td>3935</td>\n",
              "      <td>3935</td>\n",
              "    </tr>\n",
              "    <tr>\n",
              "      <th>unique</th>\n",
              "      <td>2</td>\n",
              "      <td>3935</td>\n",
              "    </tr>\n",
              "    <tr>\n",
              "      <th>top</th>\n",
              "      <td>ham</td>\n",
              "      <td>ok chinese food on its way. when i get fat you...</td>\n",
              "    </tr>\n",
              "    <tr>\n",
              "      <th>freq</th>\n",
              "      <td>3430</td>\n",
              "      <td>1</td>\n",
              "    </tr>\n",
              "  </tbody>\n",
              "</table>\n",
              "</div>\n",
              "      <button class=\"colab-df-convert\" onclick=\"convertToInteractive('df-7f2c6c6a-ed18-4810-a63e-2dd72195529f')\"\n",
              "              title=\"Convert this dataframe to an interactive table.\"\n",
              "              style=\"display:none;\">\n",
              "        \n",
              "  <svg xmlns=\"http://www.w3.org/2000/svg\" height=\"24px\"viewBox=\"0 0 24 24\"\n",
              "       width=\"24px\">\n",
              "    <path d=\"M0 0h24v24H0V0z\" fill=\"none\"/>\n",
              "    <path d=\"M18.56 5.44l.94 2.06.94-2.06 2.06-.94-2.06-.94-.94-2.06-.94 2.06-2.06.94zm-11 1L8.5 8.5l.94-2.06 2.06-.94-2.06-.94L8.5 2.5l-.94 2.06-2.06.94zm10 10l.94 2.06.94-2.06 2.06-.94-2.06-.94-.94-2.06-.94 2.06-2.06.94z\"/><path d=\"M17.41 7.96l-1.37-1.37c-.4-.4-.92-.59-1.43-.59-.52 0-1.04.2-1.43.59L10.3 9.45l-7.72 7.72c-.78.78-.78 2.05 0 2.83L4 21.41c.39.39.9.59 1.41.59.51 0 1.02-.2 1.41-.59l7.78-7.78 2.81-2.81c.8-.78.8-2.07 0-2.86zM5.41 20L4 18.59l7.72-7.72 1.47 1.35L5.41 20z\"/>\n",
              "  </svg>\n",
              "      </button>\n",
              "      \n",
              "  <style>\n",
              "    .colab-df-container {\n",
              "      display:flex;\n",
              "      flex-wrap:wrap;\n",
              "      gap: 12px;\n",
              "    }\n",
              "\n",
              "    .colab-df-convert {\n",
              "      background-color: #E8F0FE;\n",
              "      border: none;\n",
              "      border-radius: 50%;\n",
              "      cursor: pointer;\n",
              "      display: none;\n",
              "      fill: #1967D2;\n",
              "      height: 32px;\n",
              "      padding: 0 0 0 0;\n",
              "      width: 32px;\n",
              "    }\n",
              "\n",
              "    .colab-df-convert:hover {\n",
              "      background-color: #E2EBFA;\n",
              "      box-shadow: 0px 1px 2px rgba(60, 64, 67, 0.3), 0px 1px 3px 1px rgba(60, 64, 67, 0.15);\n",
              "      fill: #174EA6;\n",
              "    }\n",
              "\n",
              "    [theme=dark] .colab-df-convert {\n",
              "      background-color: #3B4455;\n",
              "      fill: #D2E3FC;\n",
              "    }\n",
              "\n",
              "    [theme=dark] .colab-df-convert:hover {\n",
              "      background-color: #434B5C;\n",
              "      box-shadow: 0px 1px 3px 1px rgba(0, 0, 0, 0.15);\n",
              "      filter: drop-shadow(0px 1px 2px rgba(0, 0, 0, 0.3));\n",
              "      fill: #FFFFFF;\n",
              "    }\n",
              "  </style>\n",
              "\n",
              "      <script>\n",
              "        const buttonEl =\n",
              "          document.querySelector('#df-7f2c6c6a-ed18-4810-a63e-2dd72195529f button.colab-df-convert');\n",
              "        buttonEl.style.display =\n",
              "          google.colab.kernel.accessAllowed ? 'block' : 'none';\n",
              "\n",
              "        async function convertToInteractive(key) {\n",
              "          const element = document.querySelector('#df-7f2c6c6a-ed18-4810-a63e-2dd72195529f');\n",
              "          const dataTable =\n",
              "            await google.colab.kernel.invokeFunction('convertToInteractive',\n",
              "                                                     [key], {});\n",
              "          if (!dataTable) return;\n",
              "\n",
              "          const docLinkHtml = 'Like what you see? Visit the ' +\n",
              "            '<a target=\"_blank\" href=https://colab.research.google.com/notebooks/data_table.ipynb>data table notebook</a>'\n",
              "            + ' to learn more about interactive tables.';\n",
              "          element.innerHTML = '';\n",
              "          dataTable['output_type'] = 'display_data';\n",
              "          await google.colab.output.renderOutput(dataTable, element);\n",
              "          const docLink = document.createElement('div');\n",
              "          docLink.innerHTML = docLinkHtml;\n",
              "          element.appendChild(docLink);\n",
              "        }\n",
              "      </script>\n",
              "    </div>\n",
              "  </div>\n",
              "  "
            ],
            "text/plain": [
              "       Classification                                            Message\n",
              "count            3935                                               3935\n",
              "unique              2                                               3935\n",
              "top               ham  ok chinese food on its way. when i get fat you...\n",
              "freq             3430                                                  1"
            ]
          },
          "metadata": {},
          "execution_count": 7
        }
      ]
    },
    {
      "cell_type": "code",
      "source": [
        "train_files['Classification'].value_counts()\n",
        "valid_files['Classification'].value_counts()\n",
        "\n",
        "# ham messages are much more frequent than spam, so we should balance the data before training the model with it\n",
        "lenTrainSpam = len(train_files[train_files['Classification'] == 'spam'])\n",
        "\n",
        "# gather lenTrainSpam amount of random samples where message is considered ham\n",
        "trainHam = train_files[train_files['Classification'] == 'ham'].sample(n=lenTrainSpam)\n",
        "trainSpam = train_files[train_files['Classification'] == 'spam'].sample(n=lenTrainSpam)\n",
        "\n",
        "# Merge lenTrainSpam amount of ham and spam samples into one dataframe\n",
        "trainSet = trainHam.merge(trainSpam,how='outer', on=None)\n",
        "\n",
        "# Shuffle dataset\n",
        "trainSet = trainSet.sample(len(trainSet), random_state=1)\n",
        "trainSet"
      ],
      "metadata": {
        "id": "lWjPuWL8KKiX",
        "colab": {
          "base_uri": "https://localhost:8080/",
          "height": 423
        },
        "outputId": "d753b9b4-626d-41f0-8b98-f99cb7760f55"
      },
      "execution_count": 8,
      "outputs": [
        {
          "output_type": "execute_result",
          "data": {
            "text/html": [
              "\n",
              "  <div id=\"df-86273625-d1a5-456b-a48d-74eb9959d7fb\">\n",
              "    <div class=\"colab-df-container\">\n",
              "      <div>\n",
              "<style scoped>\n",
              "    .dataframe tbody tr th:only-of-type {\n",
              "        vertical-align: middle;\n",
              "    }\n",
              "\n",
              "    .dataframe tbody tr th {\n",
              "        vertical-align: top;\n",
              "    }\n",
              "\n",
              "    .dataframe thead th {\n",
              "        text-align: right;\n",
              "    }\n",
              "</style>\n",
              "<table border=\"1\" class=\"dataframe\">\n",
              "  <thead>\n",
              "    <tr style=\"text-align: right;\">\n",
              "      <th></th>\n",
              "      <th>Classification</th>\n",
              "      <th>Message</th>\n",
              "    </tr>\n",
              "  </thead>\n",
              "  <tbody>\n",
              "    <tr>\n",
              "      <th>915</th>\n",
              "      <td>spam</td>\n",
              "      <td>-pls stop bootydelious (32/f) is inviting you ...</td>\n",
              "    </tr>\n",
              "    <tr>\n",
              "      <th>701</th>\n",
              "      <td>spam</td>\n",
              "      <td>private! your 2004 account statement for 07742...</td>\n",
              "    </tr>\n",
              "    <tr>\n",
              "      <th>293</th>\n",
              "      <td>ham</td>\n",
              "      <td>stop the story. i've told him i've returned it...</td>\n",
              "    </tr>\n",
              "    <tr>\n",
              "      <th>507</th>\n",
              "      <td>spam</td>\n",
              "      <td>freemsg: our records indicate you may be entit...</td>\n",
              "    </tr>\n",
              "    <tr>\n",
              "      <th>970</th>\n",
              "      <td>spam</td>\n",
              "      <td>you 07801543489 are guaranteed the latests nok...</td>\n",
              "    </tr>\n",
              "    <tr>\n",
              "      <th>...</th>\n",
              "      <td>...</td>\n",
              "      <td>...</td>\n",
              "    </tr>\n",
              "    <tr>\n",
              "      <th>767</th>\n",
              "      <td>spam</td>\n",
              "      <td>freemsg: 1-month unlimited free calls! activat...</td>\n",
              "    </tr>\n",
              "    <tr>\n",
              "      <th>72</th>\n",
              "      <td>ham</td>\n",
              "      <td>arr birthday today:) i wish him to get more os...</td>\n",
              "    </tr>\n",
              "    <tr>\n",
              "      <th>908</th>\n",
              "      <td>spam</td>\n",
              "      <td>six chances to win cash! from 100 to 20,000 po...</td>\n",
              "    </tr>\n",
              "    <tr>\n",
              "      <th>235</th>\n",
              "      <td>ham</td>\n",
              "      <td>got it! it looks scrumptious... daddy wants to...</td>\n",
              "    </tr>\n",
              "    <tr>\n",
              "      <th>37</th>\n",
              "      <td>ham</td>\n",
              "      <td>havent mus ask if u can 1st wat. of meet 4 lun...</td>\n",
              "    </tr>\n",
              "  </tbody>\n",
              "</table>\n",
              "<p>1010 rows × 2 columns</p>\n",
              "</div>\n",
              "      <button class=\"colab-df-convert\" onclick=\"convertToInteractive('df-86273625-d1a5-456b-a48d-74eb9959d7fb')\"\n",
              "              title=\"Convert this dataframe to an interactive table.\"\n",
              "              style=\"display:none;\">\n",
              "        \n",
              "  <svg xmlns=\"http://www.w3.org/2000/svg\" height=\"24px\"viewBox=\"0 0 24 24\"\n",
              "       width=\"24px\">\n",
              "    <path d=\"M0 0h24v24H0V0z\" fill=\"none\"/>\n",
              "    <path d=\"M18.56 5.44l.94 2.06.94-2.06 2.06-.94-2.06-.94-.94-2.06-.94 2.06-2.06.94zm-11 1L8.5 8.5l.94-2.06 2.06-.94-2.06-.94L8.5 2.5l-.94 2.06-2.06.94zm10 10l.94 2.06.94-2.06 2.06-.94-2.06-.94-.94-2.06-.94 2.06-2.06.94z\"/><path d=\"M17.41 7.96l-1.37-1.37c-.4-.4-.92-.59-1.43-.59-.52 0-1.04.2-1.43.59L10.3 9.45l-7.72 7.72c-.78.78-.78 2.05 0 2.83L4 21.41c.39.39.9.59 1.41.59.51 0 1.02-.2 1.41-.59l7.78-7.78 2.81-2.81c.8-.78.8-2.07 0-2.86zM5.41 20L4 18.59l7.72-7.72 1.47 1.35L5.41 20z\"/>\n",
              "  </svg>\n",
              "      </button>\n",
              "      \n",
              "  <style>\n",
              "    .colab-df-container {\n",
              "      display:flex;\n",
              "      flex-wrap:wrap;\n",
              "      gap: 12px;\n",
              "    }\n",
              "\n",
              "    .colab-df-convert {\n",
              "      background-color: #E8F0FE;\n",
              "      border: none;\n",
              "      border-radius: 50%;\n",
              "      cursor: pointer;\n",
              "      display: none;\n",
              "      fill: #1967D2;\n",
              "      height: 32px;\n",
              "      padding: 0 0 0 0;\n",
              "      width: 32px;\n",
              "    }\n",
              "\n",
              "    .colab-df-convert:hover {\n",
              "      background-color: #E2EBFA;\n",
              "      box-shadow: 0px 1px 2px rgba(60, 64, 67, 0.3), 0px 1px 3px 1px rgba(60, 64, 67, 0.15);\n",
              "      fill: #174EA6;\n",
              "    }\n",
              "\n",
              "    [theme=dark] .colab-df-convert {\n",
              "      background-color: #3B4455;\n",
              "      fill: #D2E3FC;\n",
              "    }\n",
              "\n",
              "    [theme=dark] .colab-df-convert:hover {\n",
              "      background-color: #434B5C;\n",
              "      box-shadow: 0px 1px 3px 1px rgba(0, 0, 0, 0.15);\n",
              "      filter: drop-shadow(0px 1px 2px rgba(0, 0, 0, 0.3));\n",
              "      fill: #FFFFFF;\n",
              "    }\n",
              "  </style>\n",
              "\n",
              "      <script>\n",
              "        const buttonEl =\n",
              "          document.querySelector('#df-86273625-d1a5-456b-a48d-74eb9959d7fb button.colab-df-convert');\n",
              "        buttonEl.style.display =\n",
              "          google.colab.kernel.accessAllowed ? 'block' : 'none';\n",
              "\n",
              "        async function convertToInteractive(key) {\n",
              "          const element = document.querySelector('#df-86273625-d1a5-456b-a48d-74eb9959d7fb');\n",
              "          const dataTable =\n",
              "            await google.colab.kernel.invokeFunction('convertToInteractive',\n",
              "                                                     [key], {});\n",
              "          if (!dataTable) return;\n",
              "\n",
              "          const docLinkHtml = 'Like what you see? Visit the ' +\n",
              "            '<a target=\"_blank\" href=https://colab.research.google.com/notebooks/data_table.ipynb>data table notebook</a>'\n",
              "            + ' to learn more about interactive tables.';\n",
              "          element.innerHTML = '';\n",
              "          dataTable['output_type'] = 'display_data';\n",
              "          await google.colab.output.renderOutput(dataTable, element);\n",
              "          const docLink = document.createElement('div');\n",
              "          docLink.innerHTML = docLinkHtml;\n",
              "          element.appendChild(docLink);\n",
              "        }\n",
              "      </script>\n",
              "    </div>\n",
              "  </div>\n",
              "  "
            ],
            "text/plain": [
              "    Classification                                            Message\n",
              "915           spam  -pls stop bootydelious (32/f) is inviting you ...\n",
              "701           spam  private! your 2004 account statement for 07742...\n",
              "293            ham  stop the story. i've told him i've returned it...\n",
              "507           spam  freemsg: our records indicate you may be entit...\n",
              "970           spam  you 07801543489 are guaranteed the latests nok...\n",
              "..             ...                                                ...\n",
              "767           spam  freemsg: 1-month unlimited free calls! activat...\n",
              "72             ham  arr birthday today:) i wish him to get more os...\n",
              "908           spam  six chances to win cash! from 100 to 20,000 po...\n",
              "235            ham  got it! it looks scrumptious... daddy wants to...\n",
              "37             ham  havent mus ask if u can 1st wat. of meet 4 lun...\n",
              "\n",
              "[1010 rows x 2 columns]"
            ]
          },
          "metadata": {},
          "execution_count": 8
        }
      ]
    },
    {
      "cell_type": "markdown",
      "source": [
        "# New Section"
      ],
      "metadata": {
        "id": "EfONlfzrpxQp"
      }
    },
    {
      "cell_type": "code",
      "source": [
        "# Encode hams as 0, spams as 1 to allow for a binary model\n",
        "trainSet['Classification'] = trainSet['Classification'].map({'ham':0, 'spam':1})\n",
        "valid_files['Classification'] = valid_files['Classification'].map({'ham':0, 'spam':1})\n",
        "\n",
        "trainSet.head()"
      ],
      "metadata": {
        "id": "zvmW5DR9FMRE",
        "colab": {
          "base_uri": "https://localhost:8080/",
          "height": 206
        },
        "outputId": "b2abb797-822a-4bf3-c7b7-3dee4cfa4723"
      },
      "execution_count": 9,
      "outputs": [
        {
          "output_type": "execute_result",
          "data": {
            "text/html": [
              "\n",
              "  <div id=\"df-430f9edc-a709-4feb-9937-3cb2d4643376\">\n",
              "    <div class=\"colab-df-container\">\n",
              "      <div>\n",
              "<style scoped>\n",
              "    .dataframe tbody tr th:only-of-type {\n",
              "        vertical-align: middle;\n",
              "    }\n",
              "\n",
              "    .dataframe tbody tr th {\n",
              "        vertical-align: top;\n",
              "    }\n",
              "\n",
              "    .dataframe thead th {\n",
              "        text-align: right;\n",
              "    }\n",
              "</style>\n",
              "<table border=\"1\" class=\"dataframe\">\n",
              "  <thead>\n",
              "    <tr style=\"text-align: right;\">\n",
              "      <th></th>\n",
              "      <th>Classification</th>\n",
              "      <th>Message</th>\n",
              "    </tr>\n",
              "  </thead>\n",
              "  <tbody>\n",
              "    <tr>\n",
              "      <th>915</th>\n",
              "      <td>1</td>\n",
              "      <td>-pls stop bootydelious (32/f) is inviting you ...</td>\n",
              "    </tr>\n",
              "    <tr>\n",
              "      <th>701</th>\n",
              "      <td>1</td>\n",
              "      <td>private! your 2004 account statement for 07742...</td>\n",
              "    </tr>\n",
              "    <tr>\n",
              "      <th>293</th>\n",
              "      <td>0</td>\n",
              "      <td>stop the story. i've told him i've returned it...</td>\n",
              "    </tr>\n",
              "    <tr>\n",
              "      <th>507</th>\n",
              "      <td>1</td>\n",
              "      <td>freemsg: our records indicate you may be entit...</td>\n",
              "    </tr>\n",
              "    <tr>\n",
              "      <th>970</th>\n",
              "      <td>1</td>\n",
              "      <td>you 07801543489 are guaranteed the latests nok...</td>\n",
              "    </tr>\n",
              "  </tbody>\n",
              "</table>\n",
              "</div>\n",
              "      <button class=\"colab-df-convert\" onclick=\"convertToInteractive('df-430f9edc-a709-4feb-9937-3cb2d4643376')\"\n",
              "              title=\"Convert this dataframe to an interactive table.\"\n",
              "              style=\"display:none;\">\n",
              "        \n",
              "  <svg xmlns=\"http://www.w3.org/2000/svg\" height=\"24px\"viewBox=\"0 0 24 24\"\n",
              "       width=\"24px\">\n",
              "    <path d=\"M0 0h24v24H0V0z\" fill=\"none\"/>\n",
              "    <path d=\"M18.56 5.44l.94 2.06.94-2.06 2.06-.94-2.06-.94-.94-2.06-.94 2.06-2.06.94zm-11 1L8.5 8.5l.94-2.06 2.06-.94-2.06-.94L8.5 2.5l-.94 2.06-2.06.94zm10 10l.94 2.06.94-2.06 2.06-.94-2.06-.94-.94-2.06-.94 2.06-2.06.94z\"/><path d=\"M17.41 7.96l-1.37-1.37c-.4-.4-.92-.59-1.43-.59-.52 0-1.04.2-1.43.59L10.3 9.45l-7.72 7.72c-.78.78-.78 2.05 0 2.83L4 21.41c.39.39.9.59 1.41.59.51 0 1.02-.2 1.41-.59l7.78-7.78 2.81-2.81c.8-.78.8-2.07 0-2.86zM5.41 20L4 18.59l7.72-7.72 1.47 1.35L5.41 20z\"/>\n",
              "  </svg>\n",
              "      </button>\n",
              "      \n",
              "  <style>\n",
              "    .colab-df-container {\n",
              "      display:flex;\n",
              "      flex-wrap:wrap;\n",
              "      gap: 12px;\n",
              "    }\n",
              "\n",
              "    .colab-df-convert {\n",
              "      background-color: #E8F0FE;\n",
              "      border: none;\n",
              "      border-radius: 50%;\n",
              "      cursor: pointer;\n",
              "      display: none;\n",
              "      fill: #1967D2;\n",
              "      height: 32px;\n",
              "      padding: 0 0 0 0;\n",
              "      width: 32px;\n",
              "    }\n",
              "\n",
              "    .colab-df-convert:hover {\n",
              "      background-color: #E2EBFA;\n",
              "      box-shadow: 0px 1px 2px rgba(60, 64, 67, 0.3), 0px 1px 3px 1px rgba(60, 64, 67, 0.15);\n",
              "      fill: #174EA6;\n",
              "    }\n",
              "\n",
              "    [theme=dark] .colab-df-convert {\n",
              "      background-color: #3B4455;\n",
              "      fill: #D2E3FC;\n",
              "    }\n",
              "\n",
              "    [theme=dark] .colab-df-convert:hover {\n",
              "      background-color: #434B5C;\n",
              "      box-shadow: 0px 1px 3px 1px rgba(0, 0, 0, 0.15);\n",
              "      filter: drop-shadow(0px 1px 2px rgba(0, 0, 0, 0.3));\n",
              "      fill: #FFFFFF;\n",
              "    }\n",
              "  </style>\n",
              "\n",
              "      <script>\n",
              "        const buttonEl =\n",
              "          document.querySelector('#df-430f9edc-a709-4feb-9937-3cb2d4643376 button.colab-df-convert');\n",
              "        buttonEl.style.display =\n",
              "          google.colab.kernel.accessAllowed ? 'block' : 'none';\n",
              "\n",
              "        async function convertToInteractive(key) {\n",
              "          const element = document.querySelector('#df-430f9edc-a709-4feb-9937-3cb2d4643376');\n",
              "          const dataTable =\n",
              "            await google.colab.kernel.invokeFunction('convertToInteractive',\n",
              "                                                     [key], {});\n",
              "          if (!dataTable) return;\n",
              "\n",
              "          const docLinkHtml = 'Like what you see? Visit the ' +\n",
              "            '<a target=\"_blank\" href=https://colab.research.google.com/notebooks/data_table.ipynb>data table notebook</a>'\n",
              "            + ' to learn more about interactive tables.';\n",
              "          element.innerHTML = '';\n",
              "          dataTable['output_type'] = 'display_data';\n",
              "          await google.colab.output.renderOutput(dataTable, element);\n",
              "          const docLink = document.createElement('div');\n",
              "          docLink.innerHTML = docLinkHtml;\n",
              "          element.appendChild(docLink);\n",
              "        }\n",
              "      </script>\n",
              "    </div>\n",
              "  </div>\n",
              "  "
            ],
            "text/plain": [
              "     Classification                                            Message\n",
              "915               1  -pls stop bootydelious (32/f) is inviting you ...\n",
              "701               1  private! your 2004 account statement for 07742...\n",
              "293               0  stop the story. i've told him i've returned it...\n",
              "507               1  freemsg: our records indicate you may be entit...\n",
              "970               1  you 07801543489 are guaranteed the latests nok..."
            ]
          },
          "metadata": {},
          "execution_count": 9
        }
      ]
    },
    {
      "cell_type": "code",
      "source": [
        "vocab_size = 1000\n",
        "embedding_dim = 16\n",
        "max_length = 100\n",
        "trunc_type='post'\n",
        "padding_type='post'\n",
        "oov_tok = \"<OOV>\""
      ],
      "metadata": {
        "id": "c3QwAaDHuEvd"
      },
      "execution_count": 10,
      "outputs": []
    },
    {
      "cell_type": "code",
      "source": [
        "tokenizer = Tokenizer(num_words = vocab_size, char_level=False, oov_token=oov_tok)\n",
        "tokenizer.fit_on_texts(trainSet['Message'])\n",
        "X_train = tokenizer.texts_to_sequences(trainSet['Message'])\n",
        "X_test = tokenizer.texts_to_sequences(valid_files['Message'])\n",
        "\n",
        "X_train_padded = pad_sequences(X_train, maxlen=max_length, padding=padding_type, truncating=trunc_type)\n",
        "X_test_padded = pad_sequences(X_test, maxlen=max_length, padding=padding_type, truncating=trunc_type)\n",
        "\n",
        "Y_test = valid_files['Classification']\n",
        "Y_train = trainSet['Classification']\n",
        "\n",
        "Y_train_array = np.array(Y_train)\n",
        "Y_test_array = np.array(Y_test)\n",
        "\n",
        "word_index = tokenizer.word_index"
      ],
      "metadata": {
        "id": "GbYAcsF3f4lo"
      },
      "execution_count": 11,
      "outputs": []
    },
    {
      "cell_type": "code",
      "source": [
        "model = tf.keras.Sequential([\n",
        "    tf.keras.layers.Embedding(vocab_size, embedding_dim, input_length=max_length),\n",
        "    tf.keras.layers.GlobalAveragePooling1D(),\n",
        "  \n",
        "    tf.keras.layers.Dense(8, activation='relu'),  tf.keras.layers.Dropout(0.25),\n",
        "    tf.keras.layers.Dense(1, activation='sigmoid')\n",
        "])\n",
        "model.compile(loss='binary_crossentropy',optimizer='adam',metrics=['accuracy'])\n",
        "model.summary()"
      ],
      "metadata": {
        "id": "ZcC0D-SI-KA4",
        "colab": {
          "base_uri": "https://localhost:8080/"
        },
        "outputId": "75c1ed0b-6b65-4325-c379-7d38725889ef"
      },
      "execution_count": 12,
      "outputs": [
        {
          "output_type": "stream",
          "name": "stdout",
          "text": [
            "Model: \"sequential\"\n",
            "_________________________________________________________________\n",
            " Layer (type)                Output Shape              Param #   \n",
            "=================================================================\n",
            " embedding (Embedding)       (None, 100, 16)           16000     \n",
            "                                                                 \n",
            " global_average_pooling1d (G  (None, 16)               0         \n",
            " lobalAveragePooling1D)                                          \n",
            "                                                                 \n",
            " dense (Dense)               (None, 8)                 136       \n",
            "                                                                 \n",
            " dropout (Dropout)           (None, 8)                 0         \n",
            "                                                                 \n",
            " dense_1 (Dense)             (None, 1)                 9         \n",
            "                                                                 \n",
            "=================================================================\n",
            "Total params: 16,145\n",
            "Trainable params: 16,145\n",
            "Non-trainable params: 0\n",
            "_________________________________________________________________\n"
          ]
        }
      ]
    },
    {
      "cell_type": "code",
      "source": [
        "num_epochs = 55\n",
        "history = model.fit(X_train_padded, Y_train_array, epochs=num_epochs, validation_data=(X_test_padded, Y_test_array))"
      ],
      "metadata": {
        "id": "ceVGvjTr6EU5",
        "colab": {
          "base_uri": "https://localhost:8080/"
        },
        "outputId": "a330f18c-d24c-4cf0-a3db-fdb8a75e37b6"
      },
      "execution_count": 13,
      "outputs": [
        {
          "output_type": "stream",
          "name": "stdout",
          "text": [
            "Epoch 1/55\n",
            "32/32 [==============================] - 1s 10ms/step - loss: 0.6931 - accuracy: 0.5000 - val_loss: 0.6954 - val_accuracy: 0.1305\n",
            "Epoch 2/55\n",
            "32/32 [==============================] - 0s 4ms/step - loss: 0.6904 - accuracy: 0.5010 - val_loss: 0.6943 - val_accuracy: 0.1305\n",
            "Epoch 3/55\n",
            "32/32 [==============================] - 0s 4ms/step - loss: 0.6866 - accuracy: 0.5535 - val_loss: 0.6948 - val_accuracy: 0.2216\n",
            "Epoch 4/55\n",
            "32/32 [==============================] - 0s 4ms/step - loss: 0.6812 - accuracy: 0.6109 - val_loss: 0.6944 - val_accuracy: 0.3351\n",
            "Epoch 5/55\n",
            "32/32 [==============================] - 0s 4ms/step - loss: 0.6737 - accuracy: 0.6752 - val_loss: 0.6936 - val_accuracy: 0.3736\n",
            "Epoch 6/55\n",
            "32/32 [==============================] - 0s 4ms/step - loss: 0.6607 - accuracy: 0.6832 - val_loss: 0.6891 - val_accuracy: 0.5560\n",
            "Epoch 7/55\n",
            "32/32 [==============================] - 0s 4ms/step - loss: 0.6427 - accuracy: 0.7139 - val_loss: 0.6902 - val_accuracy: 0.4692\n",
            "Epoch 8/55\n",
            "32/32 [==============================] - 0s 10ms/step - loss: 0.6204 - accuracy: 0.7683 - val_loss: 0.6927 - val_accuracy: 0.4085\n",
            "Epoch 9/55\n",
            "32/32 [==============================] - 0s 4ms/step - loss: 0.5956 - accuracy: 0.8069 - val_loss: 0.6844 - val_accuracy: 0.4944\n",
            "Epoch 10/55\n",
            "32/32 [==============================] - 0s 4ms/step - loss: 0.5711 - accuracy: 0.8366 - val_loss: 0.6702 - val_accuracy: 0.6219\n",
            "Epoch 11/55\n",
            "32/32 [==============================] - 0s 4ms/step - loss: 0.5366 - accuracy: 0.8713 - val_loss: 0.6622 - val_accuracy: 0.6405\n",
            "Epoch 12/55\n",
            "32/32 [==============================] - 0s 4ms/step - loss: 0.5110 - accuracy: 0.8792 - val_loss: 0.6280 - val_accuracy: 0.8006\n",
            "Epoch 13/55\n",
            "32/32 [==============================] - 0s 4ms/step - loss: 0.4817 - accuracy: 0.9139 - val_loss: 0.6250 - val_accuracy: 0.7658\n",
            "Epoch 14/55\n",
            "32/32 [==============================] - 0s 4ms/step - loss: 0.4553 - accuracy: 0.9149 - val_loss: 0.6010 - val_accuracy: 0.8184\n",
            "Epoch 15/55\n",
            "32/32 [==============================] - 0s 4ms/step - loss: 0.4338 - accuracy: 0.9248 - val_loss: 0.5902 - val_accuracy: 0.8199\n",
            "Epoch 16/55\n",
            "32/32 [==============================] - 0s 4ms/step - loss: 0.4064 - accuracy: 0.9465 - val_loss: 0.5767 - val_accuracy: 0.8310\n",
            "Epoch 17/55\n",
            "32/32 [==============================] - 0s 4ms/step - loss: 0.3869 - accuracy: 0.9475 - val_loss: 0.5479 - val_accuracy: 0.8725\n",
            "Epoch 18/55\n",
            "32/32 [==============================] - 0s 4ms/step - loss: 0.3687 - accuracy: 0.9535 - val_loss: 0.5277 - val_accuracy: 0.8940\n",
            "Epoch 19/55\n",
            "32/32 [==============================] - 0s 4ms/step - loss: 0.3496 - accuracy: 0.9663 - val_loss: 0.5265 - val_accuracy: 0.8740\n",
            "Epoch 20/55\n",
            "32/32 [==============================] - 0s 4ms/step - loss: 0.3378 - accuracy: 0.9564 - val_loss: 0.4956 - val_accuracy: 0.9207\n",
            "Epoch 21/55\n",
            "32/32 [==============================] - 0s 4ms/step - loss: 0.3233 - accuracy: 0.9683 - val_loss: 0.4876 - val_accuracy: 0.9162\n",
            "Epoch 22/55\n",
            "32/32 [==============================] - 0s 4ms/step - loss: 0.3148 - accuracy: 0.9653 - val_loss: 0.4706 - val_accuracy: 0.9333\n",
            "Epoch 23/55\n",
            "32/32 [==============================] - 0s 4ms/step - loss: 0.3019 - accuracy: 0.9723 - val_loss: 0.4564 - val_accuracy: 0.9377\n",
            "Epoch 24/55\n",
            "32/32 [==============================] - 0s 4ms/step - loss: 0.2911 - accuracy: 0.9733 - val_loss: 0.4482 - val_accuracy: 0.9385\n",
            "Epoch 25/55\n",
            "32/32 [==============================] - 0s 4ms/step - loss: 0.2793 - accuracy: 0.9733 - val_loss: 0.4492 - val_accuracy: 0.9251\n",
            "Epoch 26/55\n",
            "32/32 [==============================] - 0s 4ms/step - loss: 0.2701 - accuracy: 0.9713 - val_loss: 0.4251 - val_accuracy: 0.9429\n",
            "Epoch 27/55\n",
            "32/32 [==============================] - 0s 4ms/step - loss: 0.2676 - accuracy: 0.9743 - val_loss: 0.4223 - val_accuracy: 0.9400\n",
            "Epoch 28/55\n",
            "32/32 [==============================] - 0s 4ms/step - loss: 0.2565 - accuracy: 0.9752 - val_loss: 0.4215 - val_accuracy: 0.9333\n",
            "Epoch 29/55\n",
            "32/32 [==============================] - 0s 5ms/step - loss: 0.2483 - accuracy: 0.9762 - val_loss: 0.4044 - val_accuracy: 0.9444\n",
            "Epoch 30/55\n",
            "32/32 [==============================] - 0s 4ms/step - loss: 0.2450 - accuracy: 0.9723 - val_loss: 0.4132 - val_accuracy: 0.9318\n",
            "Epoch 31/55\n",
            "32/32 [==============================] - 0s 4ms/step - loss: 0.2345 - accuracy: 0.9743 - val_loss: 0.3831 - val_accuracy: 0.9503\n",
            "Epoch 32/55\n",
            "32/32 [==============================] - 0s 4ms/step - loss: 0.2326 - accuracy: 0.9762 - val_loss: 0.3805 - val_accuracy: 0.9474\n",
            "Epoch 33/55\n",
            "32/32 [==============================] - 0s 4ms/step - loss: 0.2201 - accuracy: 0.9871 - val_loss: 0.3816 - val_accuracy: 0.9407\n",
            "Epoch 34/55\n",
            "32/32 [==============================] - 0s 4ms/step - loss: 0.2181 - accuracy: 0.9802 - val_loss: 0.3911 - val_accuracy: 0.9281\n",
            "Epoch 35/55\n",
            "32/32 [==============================] - 0s 4ms/step - loss: 0.2119 - accuracy: 0.9842 - val_loss: 0.3695 - val_accuracy: 0.9414\n",
            "Epoch 36/55\n",
            "32/32 [==============================] - 0s 4ms/step - loss: 0.2053 - accuracy: 0.9832 - val_loss: 0.3518 - val_accuracy: 0.9503\n",
            "Epoch 37/55\n",
            "32/32 [==============================] - 0s 4ms/step - loss: 0.1994 - accuracy: 0.9871 - val_loss: 0.3424 - val_accuracy: 0.9540\n",
            "Epoch 38/55\n",
            "32/32 [==============================] - 0s 4ms/step - loss: 0.1955 - accuracy: 0.9861 - val_loss: 0.3330 - val_accuracy: 0.9555\n",
            "Epoch 39/55\n",
            "32/32 [==============================] - 0s 4ms/step - loss: 0.1896 - accuracy: 0.9871 - val_loss: 0.3486 - val_accuracy: 0.9414\n",
            "Epoch 40/55\n",
            "32/32 [==============================] - 0s 4ms/step - loss: 0.1846 - accuracy: 0.9871 - val_loss: 0.3388 - val_accuracy: 0.9451\n",
            "Epoch 41/55\n",
            "32/32 [==============================] - 0s 4ms/step - loss: 0.1843 - accuracy: 0.9832 - val_loss: 0.3366 - val_accuracy: 0.9422\n",
            "Epoch 42/55\n",
            "32/32 [==============================] - 0s 4ms/step - loss: 0.1775 - accuracy: 0.9861 - val_loss: 0.3366 - val_accuracy: 0.9407\n",
            "Epoch 43/55\n",
            "32/32 [==============================] - 0s 4ms/step - loss: 0.1732 - accuracy: 0.9881 - val_loss: 0.3328 - val_accuracy: 0.9385\n",
            "Epoch 44/55\n",
            "32/32 [==============================] - 0s 5ms/step - loss: 0.1719 - accuracy: 0.9881 - val_loss: 0.3200 - val_accuracy: 0.9474\n",
            "Epoch 45/55\n",
            "32/32 [==============================] - 0s 4ms/step - loss: 0.1715 - accuracy: 0.9861 - val_loss: 0.3147 - val_accuracy: 0.9489\n",
            "Epoch 46/55\n",
            "32/32 [==============================] - 0s 4ms/step - loss: 0.1636 - accuracy: 0.9851 - val_loss: 0.3247 - val_accuracy: 0.9348\n",
            "Epoch 47/55\n",
            "32/32 [==============================] - 0s 4ms/step - loss: 0.1545 - accuracy: 0.9921 - val_loss: 0.3070 - val_accuracy: 0.9474\n",
            "Epoch 48/55\n",
            "32/32 [==============================] - 0s 4ms/step - loss: 0.1551 - accuracy: 0.9901 - val_loss: 0.3145 - val_accuracy: 0.9392\n",
            "Epoch 49/55\n",
            "32/32 [==============================] - 0s 4ms/step - loss: 0.1537 - accuracy: 0.9871 - val_loss: 0.3171 - val_accuracy: 0.9355\n",
            "Epoch 50/55\n",
            "32/32 [==============================] - 0s 4ms/step - loss: 0.1478 - accuracy: 0.9901 - val_loss: 0.3006 - val_accuracy: 0.9474\n",
            "Epoch 51/55\n",
            "32/32 [==============================] - 0s 4ms/step - loss: 0.1492 - accuracy: 0.9861 - val_loss: 0.3091 - val_accuracy: 0.9377\n",
            "Epoch 52/55\n",
            "32/32 [==============================] - 0s 4ms/step - loss: 0.1405 - accuracy: 0.9931 - val_loss: 0.2849 - val_accuracy: 0.9548\n",
            "Epoch 53/55\n",
            "32/32 [==============================] - 0s 5ms/step - loss: 0.1398 - accuracy: 0.9911 - val_loss: 0.2898 - val_accuracy: 0.9496\n",
            "Epoch 54/55\n",
            "32/32 [==============================] - 0s 4ms/step - loss: 0.1385 - accuracy: 0.9871 - val_loss: 0.2735 - val_accuracy: 0.9577\n",
            "Epoch 55/55\n",
            "32/32 [==============================] - 0s 4ms/step - loss: 0.1331 - accuracy: 0.9911 - val_loss: 0.2744 - val_accuracy: 0.9570\n"
          ]
        }
      ]
    },
    {
      "cell_type": "code",
      "source": [
        "import matplotlib.pyplot as plt\n",
        "acc = history.history['accuracy']\n",
        "val_acc = history.history['val_accuracy']\n",
        "\n",
        "loss = history.history['loss']\n",
        "val_loss = history.history['val_loss']\n",
        "\n",
        "epochs_range = range(num_epochs)\n",
        "\n",
        "plt.figure(figsize=(8, 8))\n",
        "plt.subplot(1, 2, 1)\n",
        "plt.plot(epochs_range, acc, label='Training Accuracy')\n",
        "plt.plot(epochs_range, val_acc, label='Validation Accuracy')\n",
        "plt.legend(loc='lower right')\n",
        "plt.title('Training and Validation Accuracy')\n",
        "\n",
        "plt.subplot(1, 2, 2)\n",
        "plt.plot(epochs_range, loss, label='Training Loss')\n",
        "plt.plot(epochs_range, val_loss, label='Validation Loss')\n",
        "plt.legend(loc='upper right')\n",
        "plt.title('Training and Validation Loss')\n",
        "plt.show()\n"
      ],
      "metadata": {
        "id": "97JdNALPrRR1",
        "colab": {
          "base_uri": "https://localhost:8080/",
          "height": 498
        },
        "outputId": "d2587f6f-4a37-40ec-afcd-5b771d606391"
      },
      "execution_count": 14,
      "outputs": [
        {
          "output_type": "display_data",
          "data": {
            "image/png": "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\n",
            "text/plain": [
              "<Figure size 576x576 with 2 Axes>"
            ]
          },
          "metadata": {
            "needs_background": "light"
          }
        }
      ]
    },
    {
      "cell_type": "code",
      "execution_count": 15,
      "metadata": {
        "id": "J9tD9yACG6M9",
        "colab": {
          "base_uri": "https://localhost:8080/"
        },
        "outputId": "9aab2106-7907-4966-a182-90693044f60e"
      },
      "outputs": [
        {
          "output_type": "stream",
          "name": "stdout",
          "text": [
            "[0.18980965, 'ham']\n"
          ]
        }
      ],
      "source": [
        "# function to predict messages based on model\n",
        "# (should return list containing prediction and label, ex. [0.008318834938108921, 'ham'])\n",
        "def predict_message(pred_text):\n",
        "  predictions = []\n",
        "  pred_text = pd.Series(pred_text)\n",
        "  tokenized_string = tokenizer.texts_to_sequences(pred_text)\n",
        "  pad_text_sequence = pad_sequences(tokenized_string, maxlen=max_length)\n",
        "  result = model.predict(pad_text_sequence)[0]\n",
        "  \n",
        "  if result[0] <= 0.5:\n",
        "    predictions = [result[0], \"ham\"]\n",
        "  else:\n",
        "    predictions = [result[0], \"spam\"]\n",
        "  print(predictions)\n",
        "  return predictions\n",
        "\n",
        "\n",
        "pred_text = \"how are you doing today?\"\n",
        "\n",
        "prediction = predict_message(pred_text)\n"
      ]
    },
    {
      "cell_type": "code",
      "execution_count": 16,
      "metadata": {
        "id": "Dxotov85SjsC",
        "colab": {
          "base_uri": "https://localhost:8080/"
        },
        "outputId": "7c0e08fd-485e-4ae5-bd01-7bf8d8c1df32"
      },
      "outputs": [
        {
          "output_type": "stream",
          "name": "stdout",
          "text": [
            "[0.18980965, 'ham']\n",
            "[0.78161854, 'spam']\n",
            "[0.18980965, 'ham']\n",
            "[0.9968679, 'spam']\n",
            "[0.99268365, 'spam']\n",
            "[0.18980965, 'ham']\n",
            "[0.18980965, 'ham']\n",
            "You passed the challenge. Great job!\n"
          ]
        }
      ],
      "source": [
        "# Run this cell to test your function and model. Do not modify contents.\n",
        "def test_predictions():\n",
        "  test_messages = [\"how are you doing today\",\n",
        "                   \"sale today! to stop texts call 98912460324\",\n",
        "                   \"i dont want to go. can we try it a different day? available sat\",\n",
        "                   \"our new mobile video service is live. just install on your phone to start watching.\",\n",
        "                   \"you have won £1000 cash! call to claim your prize.\",\n",
        "                   \"i'll bring it tomorrow. don't forget the milk.\",\n",
        "                   \"wow, is your arm alright. that happened to me one time too\"\n",
        "                  ]\n",
        "\n",
        "  test_answers = [\"ham\", \"spam\", \"ham\", \"spam\", \"spam\", \"ham\", \"ham\"]\n",
        "  passed = True\n",
        "\n",
        "  for msg, ans in zip(test_messages, test_answers):\n",
        "    prediction = predict_message(msg)\n",
        "    if prediction[1] != ans:\n",
        "      passed = False\n",
        "\n",
        "  if passed:\n",
        "    print(\"You passed the challenge. Great job!\")\n",
        "  else:\n",
        "    print(\"You haven't passed yet. Keep trying.\")\n",
        "\n",
        "test_predictions()\n"
      ]
    }
  ],
  "metadata": {
    "colab": {
      "collapsed_sections": [],
      "name": "Copy of SMS_text_classification.ipynb",
      "provenance": [],
      "include_colab_link": true
    },
    "kernelspec": {
      "display_name": "Python 3",
      "name": "python3"
    },
    "language_info": {
       "name": "python",
   "codemirror_mode": {
    "name": "ipython",
    "version": 3}
  },
  "nbformat": 4,
  "nbformat_minor": 0
}
