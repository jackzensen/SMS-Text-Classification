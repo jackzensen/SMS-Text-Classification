{
  "cells": [
    {
      "cell_type": "markdown",
      "metadata": {
        "id": "Eg62Pmz3o83v"
      },
      "source": [
        "*Note: You are currently reading this using Google Colaboratory which is a cloud-hosted version of Jupyter Notebook. This is a document containing both text cells for documentation and runnable code cells. If you are unfamiliar with Jupyter Notebook, watch this 3-minute introduction before starting this challenge: https://www.youtube.com/watch?v=inN8seMm7UI*\n",
        "\n",
        "---\n",
        "\n",
        "In this challenge, you need to create a machine learning model that will classify SMS messages as either \"ham\" or \"spam\". A \"ham\" message is a normal message sent by a friend. A \"spam\" message is an advertisement or a message sent by a company.\n",
        "\n",
        "You should create a function called `predict_message` that takes a message string as an argument and returns a list. The first element in the list should be a number between zero and one that indicates the likeliness of \"ham\" (0) or \"spam\" (1). The second element in the list should be the word \"ham\" or \"spam\", depending on which is most likely.\n",
        "\n",
        "For this challenge, you will use the [SMS Spam Collection dataset](http://www.dt.fee.unicamp.br/~tiago/smsspamcollection/). The dataset has already been grouped into train data and test data.\n",
        "\n",
        "The first two cells import the libraries and data. The final cell tests your model and function. Add your code in between these cells.\n"
      ]
    },
    {
      "cell_type": "code",
      "execution_count": null,
      "metadata": {
        "id": "8RZOuS9LWQvv"
      },
      "outputs": [],
      "source": [
        "# import libraries\n",
        "# try:\n",
        "#   # %tensorflow_version only exists in Colab.\n",
        "#   !pip install tf-nightly\n",
        "# except Exception:\n",
        "#   pass\n",
        "# !pip install tensorflow\n",
        "# !pip install numpy --upgrade --ignore-installed\n",
        "!pip install -q tensorflow-text\n",
        "\n",
        "import requests\n",
        "import tensorflow_text as tf_text\n",
        "import tensorflow as tf\n",
        "import pandas as pd\n",
        "from tensorflow import keras\n",
        "# !pip install tensorflow-datasets\n",
        "import tensorflow_datasets as tfds\n",
        "import numpy as np\n",
        "import matplotlib.pyplot as plt\n",
        "from tensorflow.keras.preprocessing.text import Tokenizer\n",
        "from tensorflow.keras.preprocessing.sequence import pad_sequences\n",
        "print(tf.__version__)"
      ]
    },
    {
      "cell_type": "code",
      "execution_count": null,
      "metadata": {
        "id": "lMHwYXHXCar3"
      },
      "outputs": [],
      "source": [
        "# get data files\n",
        "!wget https://cdn.freecodecamp.org/project-data/sms/train-data.tsv\n",
        "!wget https://cdn.freecodecamp.org/project-data/sms/valid-data.tsv\n",
        "\n",
        "train_file_path = \"train-data.tsv\"\n",
        "test_file_path = \"valid-data.tsv\"\n",
        "\n",
        "train_file_path = \"https://cdn.freecodecamp.org/project-data/sms/train-data.tsv\"\n",
        "test_file_path = \"https://cdn.freecodecamp.org/project-data/sms/valid-data.tsv\""
      ]
    },
    {
      "cell_type": "code",
      "execution_count": null,
      "metadata": {
        "id": "g_h508FEClxO"
      },
      "outputs": [],
      "source": [
        "# train_files = pd.read_csv('https://cdn.freecodecamp.org/project-data/sms/train-data.tsv', header=0, names=['label', 'message'], sep='\\t')\n",
        "train_files = pd.read_csv('train-data.tsv', sep='\\t', header=None, names=['Classification', 'Message'])\n",
        "valid_files = pd.read_csv('valid-data.tsv', sep='\\t', header=None, names=['Classification', 'Message'])"
      ]
    },
    {
      "cell_type": "code",
      "source": [
        "# Configure parameters\n",
        "batch_size = 32\n",
        "epochs = 15\n",
        "BUFFER_SIZE = 10000\n"
      ],
      "metadata": {
        "id": "5azoCJDRpDKE"
      },
      "execution_count": null,
      "outputs": []
    },
    {
      "cell_type": "code",
      "source": [
        "!mkdir trainData\n",
        "!mv train-data.tsv trainData\n",
        "!mkdir valData\n",
        "!mv valid-data.tsv valData"
      ],
      "metadata": {
        "id": "B-1Xf9Xxw4V-"
      },
      "execution_count": null,
      "outputs": []
    },
    {
      "cell_type": "code",
      "source": [
        "# this shows there are duplicates that probably need to be removed from the datasets\n",
        "train_files.describe()\n",
        "duplicatedRow = train_files[train_files.duplicated()]\n",
        "print(duplicatedRow[:10])"
      ],
      "metadata": {
        "id": "av302MuOIWez"
      },
      "execution_count": null,
      "outputs": []
    },
    {
      "cell_type": "code",
      "source": [
        "# Remove duplicate entries\n",
        "train_files = train_files.drop_duplicates()\n",
        "valid_files = valid_files.drop_duplicates()\n",
        "train_files.describe()"
      ],
      "metadata": {
        "id": "9OybGHaMJ6FK"
      },
      "execution_count": null,
      "outputs": []
    },
    {
      "cell_type": "code",
      "source": [
        "train_files['Classification'].value_counts()\n",
        "valid_files['Classification'].value_counts()\n",
        "\n",
        "# ham messages are much more frequent than spam, so we should balance the data before training the model with it\n",
        "lenTrainSpam = len(train_files[train_files['Classification'] == 'spam'])\n",
        "\n",
        "# gather lenTrainSpam amount of random samples where message is considered ham\n",
        "trainHam = train_files[train_files['Classification'] == 'ham'].sample(n=lenTrainSpam)\n",
        "trainSpam = train_files[train_files['Classification'] == 'spam'].sample(n=lenTrainSpam)\n",
        "\n",
        "# Merge lenTrainSpam amount of ham and spam samples into one dataframe\n",
        "trainSet = trainHam.merge(trainSpam,how='outer', on=None)\n",
        "\n",
        "# Shuffle dataset\n",
        "trainSet = trainSet.sample(len(trainSet), random_state=1)\n",
        "trainSet"
      ],
      "metadata": {
        "id": "lWjPuWL8KKiX"
      },
      "execution_count": null,
      "outputs": []
    },
    {
      "cell_type": "code",
      "source": [
        "# Encode hams as 0, spams as 1 to allow for a binary model\n",
        "trainSet['Classification'] = trainSet['Classification'].map({'ham':0, 'spam':1})\n",
        "valid_files['Classification'] = valid_files['Classification'].map({'ham':0, 'spam':1})\n",
        "\n",
        "trainSet.head()"
      ],
      "metadata": {
        "id": "zvmW5DR9FMRE"
      },
      "execution_count": null,
      "outputs": []
    },
    {
      "cell_type": "code",
      "source": [
        "vocab_size = 1000\n",
        "embedding_dim = 16\n",
        "max_length = 100\n",
        "trunc_type='post'\n",
        "padding_type='post'\n",
        "oov_tok = \"<OOV>\""
      ],
      "metadata": {
        "id": "c3QwAaDHuEvd"
      },
      "execution_count": null,
      "outputs": []
    },
    {
      "cell_type": "code",
      "source": [
        "tokenizer = Tokenizer(num_words = vocab_size, char_level=False, oov_token=oov_tok)\n",
        "tokenizer.fit_on_texts(trainSet['Message'])\n",
        "X_train = tokenizer.texts_to_sequences(trainSet['Message'])\n",
        "X_test = tokenizer.texts_to_sequences(valid_files['Message'])\n",
        "\n",
        "X_train_padded = pad_sequences(X_train, maxlen=max_length, padding=padding_type, truncating=trunc_type)\n",
        "X_test_padded = pad_sequences(X_test, maxlen=max_length, padding=padding_type, truncating=trunc_type)\n",
        "\n",
        "Y_test = valid_files['Classification']\n",
        "Y_train = trainSet['Classification']\n",
        "\n",
        "Y_train_array = np.array(Y_train)\n",
        "Y_test_array = np.array(Y_test)\n",
        "\n",
        "word_index = tokenizer.word_index"
      ],
      "metadata": {
        "id": "GbYAcsF3f4lo"
      },
      "execution_count": null,
      "outputs": []
    },
    {
      "cell_type": "code",
      "source": [
        "model = tf.keras.Sequential([\n",
        "    tf.keras.layers.Embedding(vocab_size, embedding_dim, input_length=max_length),\n",
        "    tf.keras.layers.GlobalAveragePooling1D(),\n",
        "  \n",
        "    tf.keras.layers.Dense(8, activation='relu'),  tf.keras.layers.Dropout(0.25),\n",
        "    tf.keras.layers.Dense(1, activation='sigmoid')\n",
        "])\n",
        "model.compile(loss='binary_crossentropy',optimizer='adam',metrics=['accuracy'])\n",
        "model.summary()"
      ],
      "metadata": {
        "id": "ZcC0D-SI-KA4"
      },
      "execution_count": null,
      "outputs": []
    },
    {
      "cell_type": "code",
      "source": [
        "num_epochs = 55\n",
        "history = model.fit(X_train_padded, Y_train_array, epochs=num_epochs, validation_data=(X_test_padded, Y_test_array))"
      ],
      "metadata": {
        "id": "ceVGvjTr6EU5"
      },
      "execution_count": null,
      "outputs": []
    },
    {
      "cell_type": "code",
      "source": [
        "import matplotlib.pyplot as plt\n",
        "acc = history.history['accuracy']\n",
        "val_acc = history.history['val_accuracy']\n",
        "\n",
        "loss = history.history['loss']\n",
        "val_loss = history.history['val_loss']\n",
        "\n",
        "epochs_range = range(num_epochs)\n",
        "\n",
        "plt.figure(figsize=(8, 8))\n",
        "plt.subplot(1, 2, 1)\n",
        "plt.plot(epochs_range, acc, label='Training Accuracy')\n",
        "plt.plot(epochs_range, val_acc, label='Validation Accuracy')\n",
        "plt.legend(loc='lower right')\n",
        "plt.title('Training and Validation Accuracy')\n",
        "\n",
        "plt.subplot(1, 2, 2)\n",
        "plt.plot(epochs_range, loss, label='Training Loss')\n",
        "plt.plot(epochs_range, val_loss, label='Validation Loss')\n",
        "plt.legend(loc='upper right')\n",
        "plt.title('Training and Validation Loss')\n",
        "plt.show()\n"
      ],
      "metadata": {
        "id": "97JdNALPrRR1"
      },
      "execution_count": null,
      "outputs": []
    },
    {
      "cell_type": "code",
      "execution_count": null,
      "metadata": {
        "id": "J9tD9yACG6M9"
      },
      "outputs": [],
      "source": [
        "# function to predict messages based on model\n",
        "# (should return list containing prediction and label, ex. [0.008318834938108921, 'ham'])\n",
        "def predict_message(pred_text):\n",
        "  predictions = []\n",
        "  pred_text = pd.Series(pred_text)\n",
        "  tokenized_string = tokenizer.texts_to_sequences(pred_text)\n",
        "  pad_text_sequence = pad_sequences(tokenized_string, maxlen=max_length)\n",
        "  result = model.predict(pad_text_sequence)[0]\n",
        "  \n",
        "  if result[0] <= 0.5:\n",
        "    predictions = [result[0], \"ham\"]\n",
        "  else:\n",
        "    predictions = [result[0], \"spam\"]\n",
        "  print(predictions)\n",
        "  return predictions\n",
        "\n",
        "\n",
        "pred_text = \"how are you doing today?\"\n",
        "\n",
        "prediction = predict_message(pred_text)\n",
        "print(prediction)\n"
      ]
    },
    {
      "cell_type": "code",
      "execution_count": null,
      "metadata": {
        "id": "Dxotov85SjsC"
      },
      "outputs": [],
      "source": [
        "# Run this cell to test your function and model. Do not modify contents.\n",
        "def test_predictions():\n",
        "  test_messages = [\"how are you doing today\",\n",
        "                   \"sale today! to stop texts call 98912460324\",\n",
        "                   \"i dont want to go. can we try it a different day? available sat\",\n",
        "                   \"our new mobile video service is live. just install on your phone to start watching.\",\n",
        "                   \"you have won £1000 cash! call to claim your prize.\",\n",
        "                   \"i'll bring it tomorrow. don't forget the milk.\",\n",
        "                   \"wow, is your arm alright. that happened to me one time too\"\n",
        "                  ]\n",
        "\n",
        "  test_answers = [\"ham\", \"spam\", \"ham\", \"spam\", \"spam\", \"ham\", \"ham\"]\n",
        "  passed = True\n",
        "\n",
        "  for msg, ans in zip(test_messages, test_answers):\n",
        "    prediction = predict_message(msg)\n",
        "    if prediction[1] != ans:\n",
        "      passed = False\n",
        "\n",
        "  if passed:\n",
        "    print(\"You passed the challenge. Great job!\")\n",
        "  else:\n",
        "    print(\"You haven't passed yet. Keep trying.\")\n",
        "\n",
        "test_predictions()\n"
      ]
    }
  ],
  "metadata": {
    "colab": {
      "collapsed_sections": [],
      "name": "fcc_sms_text_classification.ipynb",
      "private_outputs": true,
      "provenance": []
    },
    "kernelspec": {
      "display_name": "Python 3",
      "name": "python3"
    },
    "language_info": {}
  },
  "nbformat": 4,
  "nbformat_minor": 0
}